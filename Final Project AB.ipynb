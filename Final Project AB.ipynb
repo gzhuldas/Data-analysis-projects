{
 "cells": [
  {
   "cell_type": "markdown",
   "metadata": {},
   "source": [
    "---\n",
    "\n",
    "**<font color=\"green\">Reviewer's comment V3</font>**\n",
    "\n",
    "Gaini, hi!\n",
    "\n",
    "You've worked hard and now your project is perfect!\n",
    "\n",
    "\n",
    "---\n",
    "\n"
   ]
  },
  {
   "cell_type": "markdown",
   "metadata": {},
   "source": [
    "---\n",
    "\n",
    "**<font color=\"green\">Reviewer's comment V2</font>**\n",
    "\n",
    "Gaini, hello!\n",
    "\n",
    "I really appreciate the corrections you sent! \n",
    "\n",
    "\n",
    "---\n"
   ]
  },
  {
   "cell_type": "markdown",
   "metadata": {},
   "source": [
    "---\n",
    "\n",
    "**<font color=\"green\">Reviewer's comment</font>**\n",
    "\n",
    "Hi, Gaini! You've done a really good job!\n",
    "\n",
    "Sorry for review delay\n",
    "\n",
    "My name is Yuliy, I'll review your project.\n",
    "\n",
    "In the notebook you'll meet my comments in markdown cells with \"Reviewer's comment\" title.\n",
    "\n",
    "Please don't delete my comments. Great if you choose \n",
    "\n",
    "---\n",
    "<div class=\"alert alert-block alert-info\">\n",
    "    \n",
    "\n",
    "### Comment\n",
    "\n",
    "Your comment text\n",
    "</div>\n",
    "    \n",
    "---\n",
    "\n",
    "\n",
    "for your comments - It's easier for us to follow the corrections.\n",
    "\n",
    "---\n",
    "\n",
    "My comments look like:\n",
    "\n",
    "<div class=\"alert alert-block alert-danger\">\n",
    "    \n",
    "\n",
    "### Reviewer's comment\n",
    "\n",
    "This comment is required corrections - I can't accept project without it\n",
    "</div>\n",
    "    \n",
    "---\n",
    "\n",
    "<div class=\"alert alert-block alert-warning\">\n",
    "    \n",
    "\n",
    "### Reviewer's comment\n",
    "\n",
    "This comment correction is up to you - It is recommendation or advice for future\n",
    "    \n",
    "</div>\n",
    "\n",
    "---\n",
    "\n",
    "<div class=\"alert alert-block alert-success\">\n",
    "    \n",
    "\n",
    "### Reviewer's comment\n",
    "\n",
    "This comment indicates right and quality decision =)\n",
    "\n",
    "</div>\n",
    "\n",
    "---\n"
   ]
  },
  {
   "cell_type": "markdown",
   "metadata": {},
   "source": [
    "## Final project: A/B test"
   ]
  },
  {
   "cell_type": "markdown",
   "metadata": {},
   "source": [
    "##### Goal: Conduct an A/B test and check the statistical significance of conversion rates' difference at each funnel stage for A/B groups using z-test. \n",
    "\n",
    "Plan:\n",
    "\n",
    "Step 1. Preprocessing. Find and replace missing values, drop duplicates, change datatypes where needed.\\\n",
    "Step 2. EDA. Answer the questions and make conclusions:\n",
    "    1. Study conversion at different stages of the funnel.\n",
    "    2. Is the number of events per user distributed equally among the samples?\n",
    "    3. Are there users who are present in both samples?\n",
    "    4. How is the number of events distributed among days?\n",
    "    5. Are there any peculiarities in the data that you have to take into account before starting the A/B test?\n",
    "    6. Step 2 conclusion.\n",
    "Step 3. A/B test. \n",
    "    1. Analyze A/B test results.\n",
    "    2. Perform z-test. \n",
    "    3. Step 3 conclusion.\n",
    "Conclusion\n"
   ]
  },
  {
   "cell_type": "markdown",
   "metadata": {},
   "source": [
    "---\n",
    "\n",
    "<div class=\"alert alert-block alert-success\">\n",
    "    \n",
    "\n",
    "### Reviewer's comment\n",
    "\n",
    "It's a good start with the scope!\n",
    "\n",
    "</div>\n",
    "\n",
    "---"
   ]
  },
  {
   "cell_type": "markdown",
   "metadata": {},
   "source": [
    "## Step 1. Preprocessing"
   ]
  },
  {
   "cell_type": "code",
   "execution_count": 1,
   "metadata": {},
   "outputs": [],
   "source": [
    "import pandas as pd\n",
    "import plotly.express as px\n",
    "import matplotlib.pyplot as plt\n",
    "from scipy import stats as st\n",
    "import numpy as np\n",
    "import math as mth"
   ]
  },
  {
   "cell_type": "code",
   "execution_count": 2,
   "metadata": {},
   "outputs": [
    {
     "data": {
      "text/html": [
       "<div>\n",
       "<style scoped>\n",
       "    .dataframe tbody tr th:only-of-type {\n",
       "        vertical-align: middle;\n",
       "    }\n",
       "\n",
       "    .dataframe tbody tr th {\n",
       "        vertical-align: top;\n",
       "    }\n",
       "\n",
       "    .dataframe thead th {\n",
       "        text-align: right;\n",
       "    }\n",
       "</style>\n",
       "<table border=\"1\" class=\"dataframe\">\n",
       "  <thead>\n",
       "    <tr style=\"text-align: right;\">\n",
       "      <th></th>\n",
       "      <th>name</th>\n",
       "      <th>regions</th>\n",
       "      <th>start_dt</th>\n",
       "      <th>finish_dt</th>\n",
       "    </tr>\n",
       "  </thead>\n",
       "  <tbody>\n",
       "    <tr>\n",
       "      <td>0</td>\n",
       "      <td>Christmas&amp;New Year Promo</td>\n",
       "      <td>EU, N.America</td>\n",
       "      <td>2020-12-25</td>\n",
       "      <td>2021-01-03</td>\n",
       "    </tr>\n",
       "    <tr>\n",
       "      <td>1</td>\n",
       "      <td>St. Valentine's Day Giveaway</td>\n",
       "      <td>EU, CIS, APAC, N.America</td>\n",
       "      <td>2020-02-14</td>\n",
       "      <td>2020-02-16</td>\n",
       "    </tr>\n",
       "    <tr>\n",
       "      <td>2</td>\n",
       "      <td>St. Patric's Day Promo</td>\n",
       "      <td>EU, N.America</td>\n",
       "      <td>2020-03-17</td>\n",
       "      <td>2020-03-19</td>\n",
       "    </tr>\n",
       "    <tr>\n",
       "      <td>3</td>\n",
       "      <td>Easter Promo</td>\n",
       "      <td>EU, CIS, APAC, N.America</td>\n",
       "      <td>2020-04-12</td>\n",
       "      <td>2020-04-19</td>\n",
       "    </tr>\n",
       "    <tr>\n",
       "      <td>4</td>\n",
       "      <td>4th of July Promo</td>\n",
       "      <td>N.America</td>\n",
       "      <td>2020-07-04</td>\n",
       "      <td>2020-07-11</td>\n",
       "    </tr>\n",
       "    <tr>\n",
       "      <td>5</td>\n",
       "      <td>Black Friday Ads Campaign</td>\n",
       "      <td>EU, CIS, APAC, N.America</td>\n",
       "      <td>2020-11-26</td>\n",
       "      <td>2020-12-01</td>\n",
       "    </tr>\n",
       "    <tr>\n",
       "      <td>6</td>\n",
       "      <td>Chinese New Year Promo</td>\n",
       "      <td>APAC</td>\n",
       "      <td>2020-01-25</td>\n",
       "      <td>2020-02-07</td>\n",
       "    </tr>\n",
       "    <tr>\n",
       "      <td>7</td>\n",
       "      <td>Labor day (May 1st) Ads Campaign</td>\n",
       "      <td>EU, CIS, APAC</td>\n",
       "      <td>2020-05-01</td>\n",
       "      <td>2020-05-03</td>\n",
       "    </tr>\n",
       "    <tr>\n",
       "      <td>8</td>\n",
       "      <td>International Women's Day Promo</td>\n",
       "      <td>EU, CIS, APAC</td>\n",
       "      <td>2020-03-08</td>\n",
       "      <td>2020-03-10</td>\n",
       "    </tr>\n",
       "    <tr>\n",
       "      <td>9</td>\n",
       "      <td>Victory Day CIS (May 9th) Event</td>\n",
       "      <td>CIS</td>\n",
       "      <td>2020-05-09</td>\n",
       "      <td>2020-05-11</td>\n",
       "    </tr>\n",
       "    <tr>\n",
       "      <td>10</td>\n",
       "      <td>CIS New Year Gift Lottery</td>\n",
       "      <td>CIS</td>\n",
       "      <td>2020-12-30</td>\n",
       "      <td>2021-01-07</td>\n",
       "    </tr>\n",
       "    <tr>\n",
       "      <td>11</td>\n",
       "      <td>Dragon Boat Festival Giveaway</td>\n",
       "      <td>APAC</td>\n",
       "      <td>2020-06-25</td>\n",
       "      <td>2020-07-01</td>\n",
       "    </tr>\n",
       "    <tr>\n",
       "      <td>12</td>\n",
       "      <td>Single's Day Gift Promo</td>\n",
       "      <td>APAC</td>\n",
       "      <td>2020-11-11</td>\n",
       "      <td>2020-11-12</td>\n",
       "    </tr>\n",
       "    <tr>\n",
       "      <td>13</td>\n",
       "      <td>Chinese Moon Festival</td>\n",
       "      <td>APAC</td>\n",
       "      <td>2020-10-01</td>\n",
       "      <td>2020-10-07</td>\n",
       "    </tr>\n",
       "  </tbody>\n",
       "</table>\n",
       "</div>"
      ],
      "text/plain": [
       "                                name                   regions    start_dt  \\\n",
       "0           Christmas&New Year Promo             EU, N.America  2020-12-25   \n",
       "1       St. Valentine's Day Giveaway  EU, CIS, APAC, N.America  2020-02-14   \n",
       "2             St. Patric's Day Promo             EU, N.America  2020-03-17   \n",
       "3                       Easter Promo  EU, CIS, APAC, N.America  2020-04-12   \n",
       "4                  4th of July Promo                 N.America  2020-07-04   \n",
       "5          Black Friday Ads Campaign  EU, CIS, APAC, N.America  2020-11-26   \n",
       "6             Chinese New Year Promo                      APAC  2020-01-25   \n",
       "7   Labor day (May 1st) Ads Campaign             EU, CIS, APAC  2020-05-01   \n",
       "8    International Women's Day Promo             EU, CIS, APAC  2020-03-08   \n",
       "9    Victory Day CIS (May 9th) Event                       CIS  2020-05-09   \n",
       "10         CIS New Year Gift Lottery                       CIS  2020-12-30   \n",
       "11     Dragon Boat Festival Giveaway                      APAC  2020-06-25   \n",
       "12           Single's Day Gift Promo                      APAC  2020-11-11   \n",
       "13             Chinese Moon Festival                      APAC  2020-10-01   \n",
       "\n",
       "     finish_dt  \n",
       "0   2021-01-03  \n",
       "1   2020-02-16  \n",
       "2   2020-03-19  \n",
       "3   2020-04-19  \n",
       "4   2020-07-11  \n",
       "5   2020-12-01  \n",
       "6   2020-02-07  \n",
       "7   2020-05-03  \n",
       "8   2020-03-10  \n",
       "9   2020-05-11  \n",
       "10  2021-01-07  \n",
       "11  2020-07-01  \n",
       "12  2020-11-12  \n",
       "13  2020-10-07  "
      ]
     },
     "execution_count": 2,
     "metadata": {},
     "output_type": "execute_result"
    }
   ],
   "source": [
    "try:\n",
    "    ab_events = pd.read_csv('ab_project_marketing_events_us.csv')\n",
    "except:\n",
    "    ab_events = pd.read_csv('/datasets/ab_project_marketing_events_us.csv')\n",
    "ab_events"
   ]
  },
  {
   "cell_type": "code",
   "execution_count": 3,
   "metadata": {},
   "outputs": [],
   "source": [
    "ab_events['start_dt'] = pd.to_datetime(ab_events['start_dt'], format='%Y-%m-%d')\n",
    "ab_events['finish_dt'] = pd.to_datetime(ab_events['finish_dt'], format='%Y-%m-%d')"
   ]
  },
  {
   "cell_type": "code",
   "execution_count": 4,
   "metadata": {},
   "outputs": [
    {
     "name": "stdout",
     "output_type": "stream",
     "text": [
      "<class 'pandas.core.frame.DataFrame'>\n",
      "RangeIndex: 440317 entries, 0 to 440316\n",
      "Data columns (total 4 columns):\n",
      "user_id       440317 non-null object\n",
      "event_dt      440317 non-null object\n",
      "event_name    440317 non-null object\n",
      "details       62740 non-null float64\n",
      "dtypes: float64(1), object(3)\n",
      "memory usage: 13.4+ MB\n"
     ]
    }
   ],
   "source": [
    "try:\n",
    "    final_ab_events = pd.read_csv('final_ab_events_us.csv')\n",
    "except:\n",
    "    final_ab_events = pd.read_csv('/datasets/final_ab_events_us.csv')\n",
    "final_ab_events.info()"
   ]
  },
  {
   "cell_type": "code",
   "execution_count": 5,
   "metadata": {},
   "outputs": [],
   "source": [
    "final_ab_events['details'] = pd.to_numeric(final_ab_events['details'], downcast='float')\n",
    "final_ab_events['event_dt'] = pd.to_datetime(final_ab_events['event_dt'], format='%Y-%m-%d %H:%M:%S')\n",
    "final_ab_events.fillna(0, inplace=True)\n",
    "final_ab_events.drop_duplicates(inplace=True)"
   ]
  },
  {
   "cell_type": "code",
   "execution_count": 6,
   "metadata": {},
   "outputs": [
    {
     "data": {
      "text/html": [
       "<div>\n",
       "<style scoped>\n",
       "    .dataframe tbody tr th:only-of-type {\n",
       "        vertical-align: middle;\n",
       "    }\n",
       "\n",
       "    .dataframe tbody tr th {\n",
       "        vertical-align: top;\n",
       "    }\n",
       "\n",
       "    .dataframe thead th {\n",
       "        text-align: right;\n",
       "    }\n",
       "</style>\n",
       "<table border=\"1\" class=\"dataframe\">\n",
       "  <thead>\n",
       "    <tr style=\"text-align: right;\">\n",
       "      <th></th>\n",
       "      <th>user_id</th>\n",
       "      <th>event_dt</th>\n",
       "      <th>event_name</th>\n",
       "      <th>details</th>\n",
       "    </tr>\n",
       "  </thead>\n",
       "  <tbody>\n",
       "    <tr>\n",
       "      <td>0</td>\n",
       "      <td>E1BDDCE0DAFA2679</td>\n",
       "      <td>2020-12-07 20:22:03</td>\n",
       "      <td>purchase</td>\n",
       "      <td>99.989998</td>\n",
       "    </tr>\n",
       "    <tr>\n",
       "      <td>1</td>\n",
       "      <td>7B6452F081F49504</td>\n",
       "      <td>2020-12-07 09:22:53</td>\n",
       "      <td>purchase</td>\n",
       "      <td>9.990000</td>\n",
       "    </tr>\n",
       "    <tr>\n",
       "      <td>2</td>\n",
       "      <td>9CD9F34546DF254C</td>\n",
       "      <td>2020-12-07 12:59:29</td>\n",
       "      <td>purchase</td>\n",
       "      <td>4.990000</td>\n",
       "    </tr>\n",
       "    <tr>\n",
       "      <td>3</td>\n",
       "      <td>96F27A054B191457</td>\n",
       "      <td>2020-12-07 04:02:40</td>\n",
       "      <td>purchase</td>\n",
       "      <td>4.990000</td>\n",
       "    </tr>\n",
       "    <tr>\n",
       "      <td>4</td>\n",
       "      <td>1FD7660FDF94CA1F</td>\n",
       "      <td>2020-12-07 10:15:09</td>\n",
       "      <td>purchase</td>\n",
       "      <td>4.990000</td>\n",
       "    </tr>\n",
       "  </tbody>\n",
       "</table>\n",
       "</div>"
      ],
      "text/plain": [
       "            user_id            event_dt event_name    details\n",
       "0  E1BDDCE0DAFA2679 2020-12-07 20:22:03   purchase  99.989998\n",
       "1  7B6452F081F49504 2020-12-07 09:22:53   purchase   9.990000\n",
       "2  9CD9F34546DF254C 2020-12-07 12:59:29   purchase   4.990000\n",
       "3  96F27A054B191457 2020-12-07 04:02:40   purchase   4.990000\n",
       "4  1FD7660FDF94CA1F 2020-12-07 10:15:09   purchase   4.990000"
      ]
     },
     "execution_count": 6,
     "metadata": {},
     "output_type": "execute_result"
    }
   ],
   "source": [
    "final_ab_events.head()"
   ]
  },
  {
   "cell_type": "code",
   "execution_count": 7,
   "metadata": {
    "scrolled": true
   },
   "outputs": [
    {
     "name": "stdout",
     "output_type": "stream",
     "text": [
      "<class 'pandas.core.frame.DataFrame'>\n",
      "RangeIndex: 61733 entries, 0 to 61732\n",
      "Data columns (total 4 columns):\n",
      "user_id       61733 non-null object\n",
      "first_date    61733 non-null object\n",
      "region        61733 non-null object\n",
      "device        61733 non-null object\n",
      "dtypes: object(4)\n",
      "memory usage: 1.9+ MB\n"
     ]
    }
   ],
   "source": [
    "try:\n",
    "    final_ab_new_users = pd.read_csv('final_ab_new_users_us.csv')\n",
    "except:\n",
    "    final_ab_new_users = pd.read_csv('/datasets/final_ab_new_users_us.csv')\n",
    "final_ab_new_users.info()\n",
    "final_ab_new_users.drop_duplicates(inplace=True)"
   ]
  },
  {
   "cell_type": "code",
   "execution_count": 8,
   "metadata": {},
   "outputs": [
    {
     "data": {
      "text/html": [
       "<div>\n",
       "<style scoped>\n",
       "    .dataframe tbody tr th:only-of-type {\n",
       "        vertical-align: middle;\n",
       "    }\n",
       "\n",
       "    .dataframe tbody tr th {\n",
       "        vertical-align: top;\n",
       "    }\n",
       "\n",
       "    .dataframe thead th {\n",
       "        text-align: right;\n",
       "    }\n",
       "</style>\n",
       "<table border=\"1\" class=\"dataframe\">\n",
       "  <thead>\n",
       "    <tr style=\"text-align: right;\">\n",
       "      <th></th>\n",
       "      <th>user_id</th>\n",
       "      <th>first_date</th>\n",
       "      <th>region</th>\n",
       "      <th>device</th>\n",
       "    </tr>\n",
       "  </thead>\n",
       "  <tbody>\n",
       "    <tr>\n",
       "      <td>0</td>\n",
       "      <td>D72A72121175D8BE</td>\n",
       "      <td>2020-12-07</td>\n",
       "      <td>EU</td>\n",
       "      <td>PC</td>\n",
       "    </tr>\n",
       "    <tr>\n",
       "      <td>1</td>\n",
       "      <td>F1C668619DFE6E65</td>\n",
       "      <td>2020-12-07</td>\n",
       "      <td>N.America</td>\n",
       "      <td>Android</td>\n",
       "    </tr>\n",
       "    <tr>\n",
       "      <td>2</td>\n",
       "      <td>2E1BF1D4C37EA01F</td>\n",
       "      <td>2020-12-07</td>\n",
       "      <td>EU</td>\n",
       "      <td>PC</td>\n",
       "    </tr>\n",
       "    <tr>\n",
       "      <td>3</td>\n",
       "      <td>50734A22C0C63768</td>\n",
       "      <td>2020-12-07</td>\n",
       "      <td>EU</td>\n",
       "      <td>iPhone</td>\n",
       "    </tr>\n",
       "    <tr>\n",
       "      <td>4</td>\n",
       "      <td>E1BDDCE0DAFA2679</td>\n",
       "      <td>2020-12-07</td>\n",
       "      <td>N.America</td>\n",
       "      <td>iPhone</td>\n",
       "    </tr>\n",
       "  </tbody>\n",
       "</table>\n",
       "</div>"
      ],
      "text/plain": [
       "            user_id  first_date     region   device\n",
       "0  D72A72121175D8BE  2020-12-07         EU       PC\n",
       "1  F1C668619DFE6E65  2020-12-07  N.America  Android\n",
       "2  2E1BF1D4C37EA01F  2020-12-07         EU       PC\n",
       "3  50734A22C0C63768  2020-12-07         EU   iPhone\n",
       "4  E1BDDCE0DAFA2679  2020-12-07  N.America   iPhone"
      ]
     },
     "execution_count": 8,
     "metadata": {},
     "output_type": "execute_result"
    }
   ],
   "source": [
    "final_ab_new_users.head()"
   ]
  },
  {
   "cell_type": "code",
   "execution_count": 9,
   "metadata": {
    "scrolled": false
   },
   "outputs": [
    {
     "name": "stdout",
     "output_type": "stream",
     "text": [
      "<class 'pandas.core.frame.DataFrame'>\n",
      "RangeIndex: 18268 entries, 0 to 18267\n",
      "Data columns (total 3 columns):\n",
      "user_id    18268 non-null object\n",
      "group      18268 non-null object\n",
      "ab_test    18268 non-null object\n",
      "dtypes: object(3)\n",
      "memory usage: 428.3+ KB\n"
     ]
    }
   ],
   "source": [
    "try:\n",
    "    final_ab_partcs = pd.read_csv('final_ab_participants_us.csv')\n",
    "except:\n",
    "    final_ab_partcs = pd.read_csv('/datasets/final_ab_participants_us.csv')\n",
    "final_ab_partcs.info()\n",
    "final_ab_partcs.drop_duplicates(inplace=True)"
   ]
  },
  {
   "cell_type": "code",
   "execution_count": 10,
   "metadata": {},
   "outputs": [
    {
     "data": {
      "text/html": [
       "<div>\n",
       "<style scoped>\n",
       "    .dataframe tbody tr th:only-of-type {\n",
       "        vertical-align: middle;\n",
       "    }\n",
       "\n",
       "    .dataframe tbody tr th {\n",
       "        vertical-align: top;\n",
       "    }\n",
       "\n",
       "    .dataframe thead th {\n",
       "        text-align: right;\n",
       "    }\n",
       "</style>\n",
       "<table border=\"1\" class=\"dataframe\">\n",
       "  <thead>\n",
       "    <tr style=\"text-align: right;\">\n",
       "      <th></th>\n",
       "      <th>user_id</th>\n",
       "      <th>group</th>\n",
       "      <th>ab_test</th>\n",
       "    </tr>\n",
       "  </thead>\n",
       "  <tbody>\n",
       "    <tr>\n",
       "      <td>0</td>\n",
       "      <td>D1ABA3E2887B6A73</td>\n",
       "      <td>A</td>\n",
       "      <td>recommender_system_test</td>\n",
       "    </tr>\n",
       "    <tr>\n",
       "      <td>1</td>\n",
       "      <td>A7A3664BD6242119</td>\n",
       "      <td>A</td>\n",
       "      <td>recommender_system_test</td>\n",
       "    </tr>\n",
       "    <tr>\n",
       "      <td>2</td>\n",
       "      <td>DABC14FDDFADD29E</td>\n",
       "      <td>A</td>\n",
       "      <td>recommender_system_test</td>\n",
       "    </tr>\n",
       "    <tr>\n",
       "      <td>3</td>\n",
       "      <td>04988C5DF189632E</td>\n",
       "      <td>A</td>\n",
       "      <td>recommender_system_test</td>\n",
       "    </tr>\n",
       "    <tr>\n",
       "      <td>4</td>\n",
       "      <td>482F14783456D21B</td>\n",
       "      <td>B</td>\n",
       "      <td>recommender_system_test</td>\n",
       "    </tr>\n",
       "  </tbody>\n",
       "</table>\n",
       "</div>"
      ],
      "text/plain": [
       "            user_id group                  ab_test\n",
       "0  D1ABA3E2887B6A73     A  recommender_system_test\n",
       "1  A7A3664BD6242119     A  recommender_system_test\n",
       "2  DABC14FDDFADD29E     A  recommender_system_test\n",
       "3  04988C5DF189632E     A  recommender_system_test\n",
       "4  482F14783456D21B     B  recommender_system_test"
      ]
     },
     "execution_count": 10,
     "metadata": {},
     "output_type": "execute_result"
    }
   ],
   "source": [
    "final_ab_partcs.head()"
   ]
  },
  {
   "cell_type": "markdown",
   "metadata": {},
   "source": [
    "The datasets were opened and checked for duplicates and nan values. Some columns' datatypes were changed or downcasted to save memory. "
   ]
  },
  {
   "cell_type": "markdown",
   "metadata": {},
   "source": [
    "---\n",
    "\n",
    "<div class=\"alert alert-block alert-warning\">\n",
    "    \n",
    "\n",
    "### Reviewer's comment\n",
    "\n",
    "Data preprocessing was done. It's OK\n",
    "    \n",
    "But for future research - It's not good idea to drop duplicates without looking inside data (good practice is to explore duplicates before dropping)\n",
    "\n",
    "</div>\n",
    "\n",
    "---"
   ]
  },
  {
   "cell_type": "markdown",
   "metadata": {},
   "source": [
    "## Step 2. EDA"
   ]
  },
  {
   "cell_type": "markdown",
   "metadata": {},
   "source": [
    "### Study conversion at different stages of the funnel."
   ]
  },
  {
   "cell_type": "code",
   "execution_count": 11,
   "metadata": {},
   "outputs": [
    {
     "data": {
      "text/plain": [
       "array(['purchase', 'product_cart', 'product_page', 'login'], dtype=object)"
      ]
     },
     "execution_count": 11,
     "metadata": {},
     "output_type": "execute_result"
    }
   ],
   "source": [
    "final_ab_events.event_name.unique()"
   ]
  },
  {
   "cell_type": "code",
   "execution_count": 12,
   "metadata": {},
   "outputs": [
    {
     "data": {
      "image/png": "[encoded data removed]",
      "text/plain": [
       "<Figure size 720x432 with 1 Axes>"
      ]
     },
     "metadata": {
      "needs_background": "light"
     },
     "output_type": "display_data"
    }
   ],
   "source": [
    "final_ab_events.groupby('event_name').agg({'user_id':'nunique'}).sort_values(by='user_id').plot(kind='barh', figsize=(10,6))\n",
    "plt.title('Event funnel, unique users')\n",
    "plt.ylabel('Event Name')\n",
    "plt.xlabel('Number of users')\n",
    "plt.show()"
   ]
  },
  {
   "cell_type": "code",
   "execution_count": 13,
   "metadata": {
    "scrolled": true
   },
   "outputs": [],
   "source": [
    "#data = dict(\n",
    "#    number=[189552, 125563, 62462, 62740], \n",
    "#    stage=['login', 'product_page', 'product_cart', 'purchases'])\n",
    "#fig = px.funnel(data, x='number', y='stage', title='Stage conversions funnel')\n",
    "#fig.show()"
   ]
  },
  {
   "cell_type": "markdown",
   "metadata": {},
   "source": [
    "---\n",
    "\n",
    "<div class=\"alert alert-block alert-danger\">\n",
    "    \n",
    "\n",
    "### Reviewer's comment\n",
    "\n",
    "It's a nice funnel (but better to check your code if it is work on the jupyter platform - here it doesn't work).\n",
    "    \n",
    "How to do better funnel:\n",
    "- avoid hard code values `number=[189552, 125563, 62462, 62740]` - to take values from DataFrame (e.g. `final_ab_events.groupby('event_name').agg({'user_id':'count'})`)\n",
    "- use in funnel unique users in addition to (or instead of) events number\n",
    "\n",
    "</div>\n",
    "\n",
    "---"
   ]
  },
  {
   "cell_type": "markdown",
   "metadata": {},
   "source": [
    "---\n",
    "\n",
    "<div class=\"alert alert-block alert-success\">\n",
    "    \n",
    "\n",
    "### Reviewer's comment V2\n",
    "\n",
    "Thank you for corrections\n",
    "\n",
    "</div>\n",
    "\n",
    "---"
   ]
  },
  {
   "cell_type": "markdown",
   "metadata": {},
   "source": [
    "The funnel showed that the final step 'purchases' has larger number of users than the previous step 'product cart'. This is probably due to the 'Buy Now' button which can offer users to buy products skipping some steps and go directly to the purchase stage. "
   ]
  },
  {
   "cell_type": "markdown",
   "metadata": {},
   "source": [
    "---\n",
    "\n",
    "<div class=\"alert alert-block alert-success\">\n",
    "    \n",
    "\n",
    "### Reviewer's comment\n",
    "\n",
    "Good assumption \n",
    "\n",
    "</div>\n",
    "\n",
    "---"
   ]
  },
  {
   "cell_type": "markdown",
   "metadata": {},
   "source": [
    "### Is the number of events per user distributed equally among the samples?"
   ]
  },
  {
   "cell_type": "code",
   "execution_count": 14,
   "metadata": {},
   "outputs": [
    {
     "data": {
      "text/plain": [
       "array(['recommender_system_test', 'interface_eu_test'], dtype=object)"
      ]
     },
     "execution_count": 14,
     "metadata": {},
     "output_type": "execute_result"
    }
   ],
   "source": [
    "final_ab_partcs.ab_test.unique()"
   ]
  },
  {
   "cell_type": "code",
   "execution_count": 15,
   "metadata": {},
   "outputs": [
    {
     "data": {
      "text/plain": [
       "user_id    6701\n",
       "dtype: int64"
      ]
     },
     "execution_count": 15,
     "metadata": {},
     "output_type": "execute_result"
    }
   ],
   "source": [
    "final_ab_partcs.query('ab_test==\"recommender_system_test\"').agg({'user_id':'nunique'})"
   ]
  },
  {
   "cell_type": "markdown",
   "metadata": {},
   "source": [
    "The dataset actually has data on two tests, only one is needed (recommender_system_test). It reached the expected number of participants. "
   ]
  },
  {
   "cell_type": "code",
   "execution_count": 16,
   "metadata": {},
   "outputs": [
    {
     "data": {
      "text/html": [
       "<div>\n",
       "<style scoped>\n",
       "    .dataframe tbody tr th:only-of-type {\n",
       "        vertical-align: middle;\n",
       "    }\n",
       "\n",
       "    .dataframe tbody tr th {\n",
       "        vertical-align: top;\n",
       "    }\n",
       "\n",
       "    .dataframe thead th {\n",
       "        text-align: right;\n",
       "    }\n",
       "</style>\n",
       "<table border=\"1\" class=\"dataframe\">\n",
       "  <thead>\n",
       "    <tr style=\"text-align: right;\">\n",
       "      <th></th>\n",
       "      <th></th>\n",
       "      <th>user_id</th>\n",
       "    </tr>\n",
       "    <tr>\n",
       "      <th>event_name</th>\n",
       "      <th>group</th>\n",
       "      <th></th>\n",
       "    </tr>\n",
       "  </thead>\n",
       "  <tbody>\n",
       "    <tr>\n",
       "      <td rowspan=\"2\" valign=\"top\">login</td>\n",
       "      <td>A</td>\n",
       "      <td>2747</td>\n",
       "    </tr>\n",
       "    <tr>\n",
       "      <td>B</td>\n",
       "      <td>928</td>\n",
       "    </tr>\n",
       "    <tr>\n",
       "      <td rowspan=\"2\" valign=\"top\">product_cart</td>\n",
       "      <td>A</td>\n",
       "      <td>824</td>\n",
       "    </tr>\n",
       "    <tr>\n",
       "      <td>B</td>\n",
       "      <td>255</td>\n",
       "    </tr>\n",
       "    <tr>\n",
       "      <td rowspan=\"2\" valign=\"top\">product_page</td>\n",
       "      <td>A</td>\n",
       "      <td>1780</td>\n",
       "    </tr>\n",
       "    <tr>\n",
       "      <td>B</td>\n",
       "      <td>523</td>\n",
       "    </tr>\n",
       "    <tr>\n",
       "      <td rowspan=\"2\" valign=\"top\">purchase</td>\n",
       "      <td>A</td>\n",
       "      <td>872</td>\n",
       "    </tr>\n",
       "    <tr>\n",
       "      <td>B</td>\n",
       "      <td>256</td>\n",
       "    </tr>\n",
       "  </tbody>\n",
       "</table>\n",
       "</div>"
      ],
      "text/plain": [
       "                    user_id\n",
       "event_name   group         \n",
       "login        A         2747\n",
       "             B          928\n",
       "product_cart A          824\n",
       "             B          255\n",
       "product_page A         1780\n",
       "             B          523\n",
       "purchase     A          872\n",
       "             B          256"
      ]
     },
     "execution_count": 16,
     "metadata": {},
     "output_type": "execute_result"
    }
   ],
   "source": [
    "# Leaving only recommender_system_test ab_test\n",
    "final_ab_partcs = final_ab_partcs.query('ab_test==\"recommender_system_test\"')\n",
    "\n",
    "# Merging datasets with events and participants for recommender_system_test\n",
    "partcs_events = final_ab_partcs.merge(final_ab_events, on='user_id', how='right')\n",
    "partcs_events.dropna(inplace=True)\n",
    "\n",
    "partcs_events.groupby(['event_name', 'group']).agg({'user_id':'nunique'})"
   ]
  },
  {
   "cell_type": "markdown",
   "metadata": {},
   "source": [
    "The table above shows the actual funnel for recommender_system_test for A/B groups of users. Each step has unique number of users who were identified for each step but not necesserily went through all steps."
   ]
  },
  {
   "cell_type": "code",
   "execution_count": 17,
   "metadata": {},
   "outputs": [
    {
     "data": {
      "image/png": "[encoded data removed]",
      "text/plain": [
       "<Figure size 720x504 with 1 Axes>"
      ]
     },
     "metadata": {
      "needs_background": "light"
     },
     "output_type": "display_data"
    }
   ],
   "source": [
    "labels = ['login', 'product_page', 'product_cart', 'purchase']\n",
    "groupA = [2747, 1780, 824, 872]\n",
    "groupB = [928, 523, 255, 256]\n",
    "\n",
    "x = np.arange(len(labels))  # the label locations\n",
    "width = 0.35  # the width of the bars\n",
    "\n",
    "fig, ax = plt.subplots(figsize=(10, 7))\n",
    "rects1 = ax.bar(x - width/2, groupA, width, label='A')\n",
    "rects2 = ax.bar(x + width/2, groupB, width, label='B')\n",
    "\n",
    "# Add some text for labels, title and custom x-axis tick labels, etc.\n",
    "ax.set_xlabel('Event Name')\n",
    "ax.set_ylabel('Number of users')\n",
    "ax.set_title('Number of unique users for each event divided by groups')\n",
    "ax.set_xticks(x)\n",
    "ax.set_xticklabels(labels)\n",
    "ax.legend()\n",
    "plt.show()"
   ]
  },
  {
   "cell_type": "markdown",
   "metadata": {},
   "source": [
    "Group B clearly has much less users. The split is ~34/66, which is different from the traditional 50/50 group split. "
   ]
  },
  {
   "cell_type": "code",
   "execution_count": 18,
   "metadata": {},
   "outputs": [
    {
     "data": {
      "text/html": [
       "<div>\n",
       "<style scoped>\n",
       "    .dataframe tbody tr th:only-of-type {\n",
       "        vertical-align: middle;\n",
       "    }\n",
       "\n",
       "    .dataframe tbody tr th {\n",
       "        vertical-align: top;\n",
       "    }\n",
       "\n",
       "    .dataframe thead th {\n",
       "        text-align: right;\n",
       "    }\n",
       "</style>\n",
       "<table border=\"1\" class=\"dataframe\">\n",
       "  <thead>\n",
       "    <tr style=\"text-align: right;\">\n",
       "      <th></th>\n",
       "      <th>user_id</th>\n",
       "      <th>login</th>\n",
       "      <th>product_cart</th>\n",
       "      <th>product_page</th>\n",
       "      <th>purchase</th>\n",
       "      <th>total_events</th>\n",
       "      <th>group</th>\n",
       "    </tr>\n",
       "  </thead>\n",
       "  <tbody>\n",
       "    <tr>\n",
       "      <td>0</td>\n",
       "      <td>001064FEAAB631A1</td>\n",
       "      <td>3.0</td>\n",
       "      <td>0.0</td>\n",
       "      <td>3.0</td>\n",
       "      <td>0.0</td>\n",
       "      <td>6.0</td>\n",
       "      <td>B</td>\n",
       "    </tr>\n",
       "    <tr>\n",
       "      <td>1</td>\n",
       "      <td>0010A1C096941592</td>\n",
       "      <td>4.0</td>\n",
       "      <td>0.0</td>\n",
       "      <td>4.0</td>\n",
       "      <td>4.0</td>\n",
       "      <td>12.0</td>\n",
       "      <td>A</td>\n",
       "    </tr>\n",
       "    <tr>\n",
       "      <td>2</td>\n",
       "      <td>00341D8401F0F665</td>\n",
       "      <td>2.0</td>\n",
       "      <td>0.0</td>\n",
       "      <td>0.0</td>\n",
       "      <td>0.0</td>\n",
       "      <td>2.0</td>\n",
       "      <td>A</td>\n",
       "    </tr>\n",
       "    <tr>\n",
       "      <td>3</td>\n",
       "      <td>003DF44D7589BBD4</td>\n",
       "      <td>5.0</td>\n",
       "      <td>5.0</td>\n",
       "      <td>5.0</td>\n",
       "      <td>0.0</td>\n",
       "      <td>15.0</td>\n",
       "      <td>A</td>\n",
       "    </tr>\n",
       "    <tr>\n",
       "      <td>4</td>\n",
       "      <td>00505E15A9D81546</td>\n",
       "      <td>5.0</td>\n",
       "      <td>0.0</td>\n",
       "      <td>0.0</td>\n",
       "      <td>0.0</td>\n",
       "      <td>5.0</td>\n",
       "      <td>A</td>\n",
       "    </tr>\n",
       "    <tr>\n",
       "      <td>...</td>\n",
       "      <td>...</td>\n",
       "      <td>...</td>\n",
       "      <td>...</td>\n",
       "      <td>...</td>\n",
       "      <td>...</td>\n",
       "      <td>...</td>\n",
       "      <td>...</td>\n",
       "    </tr>\n",
       "    <tr>\n",
       "      <td>3670</td>\n",
       "      <td>FF5B24BCE4387F86</td>\n",
       "      <td>3.0</td>\n",
       "      <td>0.0</td>\n",
       "      <td>3.0</td>\n",
       "      <td>3.0</td>\n",
       "      <td>9.0</td>\n",
       "      <td>A</td>\n",
       "    </tr>\n",
       "    <tr>\n",
       "      <td>3671</td>\n",
       "      <td>FF825C1D791989B5</td>\n",
       "      <td>4.0</td>\n",
       "      <td>4.0</td>\n",
       "      <td>0.0</td>\n",
       "      <td>0.0</td>\n",
       "      <td>8.0</td>\n",
       "      <td>A</td>\n",
       "    </tr>\n",
       "    <tr>\n",
       "      <td>3672</td>\n",
       "      <td>FF8CF7057415EB29</td>\n",
       "      <td>2.0</td>\n",
       "      <td>0.0</td>\n",
       "      <td>2.0</td>\n",
       "      <td>0.0</td>\n",
       "      <td>4.0</td>\n",
       "      <td>B</td>\n",
       "    </tr>\n",
       "    <tr>\n",
       "      <td>3673</td>\n",
       "      <td>FFAE9489C76F352B</td>\n",
       "      <td>3.0</td>\n",
       "      <td>0.0</td>\n",
       "      <td>3.0</td>\n",
       "      <td>0.0</td>\n",
       "      <td>6.0</td>\n",
       "      <td>A</td>\n",
       "    </tr>\n",
       "    <tr>\n",
       "      <td>3674</td>\n",
       "      <td>FFF28D02B1EACBE1</td>\n",
       "      <td>3.0</td>\n",
       "      <td>3.0</td>\n",
       "      <td>3.0</td>\n",
       "      <td>0.0</td>\n",
       "      <td>9.0</td>\n",
       "      <td>B</td>\n",
       "    </tr>\n",
       "  </tbody>\n",
       "</table>\n",
       "<p>3675 rows × 7 columns</p>\n",
       "</div>"
      ],
      "text/plain": [
       "               user_id  login  product_cart  product_page  purchase  \\\n",
       "0     001064FEAAB631A1    3.0           0.0           3.0       0.0   \n",
       "1     0010A1C096941592    4.0           0.0           4.0       4.0   \n",
       "2     00341D8401F0F665    2.0           0.0           0.0       0.0   \n",
       "3     003DF44D7589BBD4    5.0           5.0           5.0       0.0   \n",
       "4     00505E15A9D81546    5.0           0.0           0.0       0.0   \n",
       "...                ...    ...           ...           ...       ...   \n",
       "3670  FF5B24BCE4387F86    3.0           0.0           3.0       3.0   \n",
       "3671  FF825C1D791989B5    4.0           4.0           0.0       0.0   \n",
       "3672  FF8CF7057415EB29    2.0           0.0           2.0       0.0   \n",
       "3673  FFAE9489C76F352B    3.0           0.0           3.0       0.0   \n",
       "3674  FFF28D02B1EACBE1    3.0           3.0           3.0       0.0   \n",
       "\n",
       "      total_events group  \n",
       "0              6.0     B  \n",
       "1             12.0     A  \n",
       "2              2.0     A  \n",
       "3             15.0     A  \n",
       "4              5.0     A  \n",
       "...            ...   ...  \n",
       "3670           9.0     A  \n",
       "3671           8.0     A  \n",
       "3672           4.0     B  \n",
       "3673           6.0     A  \n",
       "3674           9.0     B  \n",
       "\n",
       "[3675 rows x 7 columns]"
      ]
     },
     "execution_count": 18,
     "metadata": {},
     "output_type": "execute_result"
    }
   ],
   "source": [
    "number_events_per_user = partcs_events.pivot_table(index='user_id', columns='event_name', values='event_dt', aggfunc='count')\\\n",
    "                         .fillna(0).reset_index(drop=False)\n",
    "number_events_per_user['total_events'] = number_events_per_user['login'] + number_events_per_user['product_cart'] + \\\n",
    "                                        number_events_per_user['product_page'] + number_events_per_user['purchase']\n",
    "\n",
    "groups = partcs_events.drop(columns={'ab_test', 'event_dt', 'event_name', 'details'})\n",
    "number_events_per_user = number_events_per_user.merge(groups, on='user_id', how='inner').drop_duplicates().reset_index(drop=True)\n",
    "number_events_per_user"
   ]
  },
  {
   "cell_type": "code",
   "execution_count": 19,
   "metadata": {},
   "outputs": [
    {
     "data": {
      "text/html": [
       "<div>\n",
       "<style scoped>\n",
       "    .dataframe tbody tr th:only-of-type {\n",
       "        vertical-align: middle;\n",
       "    }\n",
       "\n",
       "    .dataframe tbody tr th {\n",
       "        vertical-align: top;\n",
       "    }\n",
       "\n",
       "    .dataframe thead th {\n",
       "        text-align: right;\n",
       "    }\n",
       "</style>\n",
       "<table border=\"1\" class=\"dataframe\">\n",
       "  <thead>\n",
       "    <tr style=\"text-align: right;\">\n",
       "      <th></th>\n",
       "      <th>login</th>\n",
       "      <th>product_page</th>\n",
       "      <th>product_cart</th>\n",
       "      <th>purchase</th>\n",
       "      <th>total_events</th>\n",
       "    </tr>\n",
       "    <tr>\n",
       "      <th>group</th>\n",
       "      <th></th>\n",
       "      <th></th>\n",
       "      <th></th>\n",
       "      <th></th>\n",
       "      <th></th>\n",
       "    </tr>\n",
       "  </thead>\n",
       "  <tbody>\n",
       "    <tr>\n",
       "      <td>A</td>\n",
       "      <td>3.118311</td>\n",
       "      <td>2.011285</td>\n",
       "      <td>0.931198</td>\n",
       "      <td>0.966509</td>\n",
       "      <td>7.027303</td>\n",
       "    </tr>\n",
       "    <tr>\n",
       "      <td>B</td>\n",
       "      <td>2.827586</td>\n",
       "      <td>1.514009</td>\n",
       "      <td>0.742457</td>\n",
       "      <td>0.728448</td>\n",
       "      <td>5.812500</td>\n",
       "    </tr>\n",
       "  </tbody>\n",
       "</table>\n",
       "</div>"
      ],
      "text/plain": [
       "          login  product_page  product_cart  purchase  total_events\n",
       "group                                                              \n",
       "A      3.118311      2.011285      0.931198  0.966509      7.027303\n",
       "B      2.827586      1.514009      0.742457  0.728448      5.812500"
      ]
     },
     "execution_count": 19,
     "metadata": {},
     "output_type": "execute_result"
    }
   ],
   "source": [
    "number_events_per_user.groupby('group').agg({'login':'mean', 'product_page':'mean', 'product_cart':'mean', 'purchase':'mean', 'total_events':'mean'})"
   ]
  },
  {
   "cell_type": "markdown",
   "metadata": {},
   "source": [
    "The table above shows the mean events number per user in each test group. It seems like the numbers do not differ much. If the number of users for each event was distributed equally among the groups, one could conclude that users from both groups go through all stages roughly equal amount of times. But as the previous graph showed group B has much less users which means that users from group B visit the site more often, i.e. on average there are more events per user in group B that group A. "
   ]
  },
  {
   "cell_type": "markdown",
   "metadata": {},
   "source": [
    "#### Marketing events intersection:"
   ]
  },
  {
   "cell_type": "code",
   "execution_count": 20,
   "metadata": {},
   "outputs": [
    {
     "data": {
      "text/html": [
       "<div>\n",
       "<style scoped>\n",
       "    .dataframe tbody tr th:only-of-type {\n",
       "        vertical-align: middle;\n",
       "    }\n",
       "\n",
       "    .dataframe tbody tr th {\n",
       "        vertical-align: top;\n",
       "    }\n",
       "\n",
       "    .dataframe thead th {\n",
       "        text-align: right;\n",
       "    }\n",
       "</style>\n",
       "<table border=\"1\" class=\"dataframe\">\n",
       "  <thead>\n",
       "    <tr style=\"text-align: right;\">\n",
       "      <th></th>\n",
       "      <th></th>\n",
       "      <th></th>\n",
       "      <th>start_dt</th>\n",
       "      <th>finish_dt</th>\n",
       "    </tr>\n",
       "    <tr>\n",
       "      <th>month</th>\n",
       "      <th>name</th>\n",
       "      <th>regions</th>\n",
       "      <th></th>\n",
       "      <th></th>\n",
       "    </tr>\n",
       "  </thead>\n",
       "  <tbody>\n",
       "    <tr>\n",
       "      <td>1</td>\n",
       "      <td>Chinese New Year Promo</td>\n",
       "      <td>APAC</td>\n",
       "      <td>2020-01-25</td>\n",
       "      <td>2020-02-07</td>\n",
       "    </tr>\n",
       "    <tr>\n",
       "      <td>2</td>\n",
       "      <td>St. Valentine's Day Giveaway</td>\n",
       "      <td>EU, CIS, APAC, N.America</td>\n",
       "      <td>2020-02-14</td>\n",
       "      <td>2020-02-16</td>\n",
       "    </tr>\n",
       "    <tr>\n",
       "      <td rowspan=\"2\" valign=\"top\">3</td>\n",
       "      <td>International Women's Day Promo</td>\n",
       "      <td>EU, CIS, APAC</td>\n",
       "      <td>2020-03-08</td>\n",
       "      <td>2020-03-10</td>\n",
       "    </tr>\n",
       "    <tr>\n",
       "      <td>St. Patric's Day Promo</td>\n",
       "      <td>EU, N.America</td>\n",
       "      <td>2020-03-17</td>\n",
       "      <td>2020-03-19</td>\n",
       "    </tr>\n",
       "    <tr>\n",
       "      <td>4</td>\n",
       "      <td>Easter Promo</td>\n",
       "      <td>EU, CIS, APAC, N.America</td>\n",
       "      <td>2020-04-12</td>\n",
       "      <td>2020-04-19</td>\n",
       "    </tr>\n",
       "    <tr>\n",
       "      <td rowspan=\"2\" valign=\"top\">5</td>\n",
       "      <td>Labor day (May 1st) Ads Campaign</td>\n",
       "      <td>EU, CIS, APAC</td>\n",
       "      <td>2020-05-01</td>\n",
       "      <td>2020-05-03</td>\n",
       "    </tr>\n",
       "    <tr>\n",
       "      <td>Victory Day CIS (May 9th) Event</td>\n",
       "      <td>CIS</td>\n",
       "      <td>2020-05-09</td>\n",
       "      <td>2020-05-11</td>\n",
       "    </tr>\n",
       "    <tr>\n",
       "      <td>6</td>\n",
       "      <td>Dragon Boat Festival Giveaway</td>\n",
       "      <td>APAC</td>\n",
       "      <td>2020-06-25</td>\n",
       "      <td>2020-07-01</td>\n",
       "    </tr>\n",
       "    <tr>\n",
       "      <td>7</td>\n",
       "      <td>4th of July Promo</td>\n",
       "      <td>N.America</td>\n",
       "      <td>2020-07-04</td>\n",
       "      <td>2020-07-11</td>\n",
       "    </tr>\n",
       "    <tr>\n",
       "      <td>10</td>\n",
       "      <td>Chinese Moon Festival</td>\n",
       "      <td>APAC</td>\n",
       "      <td>2020-10-01</td>\n",
       "      <td>2020-10-07</td>\n",
       "    </tr>\n",
       "    <tr>\n",
       "      <td rowspan=\"2\" valign=\"top\">11</td>\n",
       "      <td>Black Friday Ads Campaign</td>\n",
       "      <td>EU, CIS, APAC, N.America</td>\n",
       "      <td>2020-11-26</td>\n",
       "      <td>2020-12-01</td>\n",
       "    </tr>\n",
       "    <tr>\n",
       "      <td>Single's Day Gift Promo</td>\n",
       "      <td>APAC</td>\n",
       "      <td>2020-11-11</td>\n",
       "      <td>2020-11-12</td>\n",
       "    </tr>\n",
       "    <tr>\n",
       "      <td rowspan=\"2\" valign=\"top\">12</td>\n",
       "      <td>CIS New Year Gift Lottery</td>\n",
       "      <td>CIS</td>\n",
       "      <td>2020-12-30</td>\n",
       "      <td>2021-01-07</td>\n",
       "    </tr>\n",
       "    <tr>\n",
       "      <td>Christmas&amp;New Year Promo</td>\n",
       "      <td>EU, N.America</td>\n",
       "      <td>2020-12-25</td>\n",
       "      <td>2021-01-03</td>\n",
       "    </tr>\n",
       "  </tbody>\n",
       "</table>\n",
       "</div>"
      ],
      "text/plain": [
       "                                                                  start_dt  \\\n",
       "month name                             regions                               \n",
       "1     Chinese New Year Promo           APAC                     2020-01-25   \n",
       "2     St. Valentine's Day Giveaway     EU, CIS, APAC, N.America 2020-02-14   \n",
       "3     International Women's Day Promo  EU, CIS, APAC            2020-03-08   \n",
       "      St. Patric's Day Promo           EU, N.America            2020-03-17   \n",
       "4     Easter Promo                     EU, CIS, APAC, N.America 2020-04-12   \n",
       "5     Labor day (May 1st) Ads Campaign EU, CIS, APAC            2020-05-01   \n",
       "      Victory Day CIS (May 9th) Event  CIS                      2020-05-09   \n",
       "6     Dragon Boat Festival Giveaway    APAC                     2020-06-25   \n",
       "7     4th of July Promo                N.America                2020-07-04   \n",
       "10    Chinese Moon Festival            APAC                     2020-10-01   \n",
       "11    Black Friday Ads Campaign        EU, CIS, APAC, N.America 2020-11-26   \n",
       "      Single's Day Gift Promo          APAC                     2020-11-11   \n",
       "12    CIS New Year Gift Lottery        CIS                      2020-12-30   \n",
       "      Christmas&New Year Promo         EU, N.America            2020-12-25   \n",
       "\n",
       "                                                                 finish_dt  \n",
       "month name                             regions                              \n",
       "1     Chinese New Year Promo           APAC                     2020-02-07  \n",
       "2     St. Valentine's Day Giveaway     EU, CIS, APAC, N.America 2020-02-16  \n",
       "3     International Women's Day Promo  EU, CIS, APAC            2020-03-10  \n",
       "      St. Patric's Day Promo           EU, N.America            2020-03-19  \n",
       "4     Easter Promo                     EU, CIS, APAC, N.America 2020-04-19  \n",
       "5     Labor day (May 1st) Ads Campaign EU, CIS, APAC            2020-05-03  \n",
       "      Victory Day CIS (May 9th) Event  CIS                      2020-05-11  \n",
       "6     Dragon Boat Festival Giveaway    APAC                     2020-07-01  \n",
       "7     4th of July Promo                N.America                2020-07-11  \n",
       "10    Chinese Moon Festival            APAC                     2020-10-07  \n",
       "11    Black Friday Ads Campaign        EU, CIS, APAC, N.America 2020-12-01  \n",
       "      Single's Day Gift Promo          APAC                     2020-11-12  \n",
       "12    CIS New Year Gift Lottery        CIS                      2021-01-07  \n",
       "      Christmas&New Year Promo         EU, N.America            2021-01-03  "
      ]
     },
     "execution_count": 20,
     "metadata": {},
     "output_type": "execute_result"
    }
   ],
   "source": [
    "ab_events['month'] = ab_events['start_dt'].dt.month\n",
    "ab_events.groupby(['month', 'name', 'regions']).agg({'start_dt':'max', 'finish_dt':'max'})"
   ]
  },
  {
   "cell_type": "markdown",
   "metadata": {},
   "source": [
    "Only a few marketing events associated with New Year actually intersect in dates. These are CIS New Year Gift Lottery and Christmas&New Year Promo. This means that if users who participated in the test come from both CIS or EU, they need to be divided by regions and AB test results should be analyzed separately."
   ]
  },
  {
   "cell_type": "markdown",
   "metadata": {},
   "source": [
    "#### Analysis for EU users only:"
   ]
  },
  {
   "cell_type": "code",
   "execution_count": 21,
   "metadata": {},
   "outputs": [
    {
     "data": {
      "text/html": [
       "<div>\n",
       "<style scoped>\n",
       "    .dataframe tbody tr th:only-of-type {\n",
       "        vertical-align: middle;\n",
       "    }\n",
       "\n",
       "    .dataframe tbody tr th {\n",
       "        vertical-align: top;\n",
       "    }\n",
       "\n",
       "    .dataframe thead th {\n",
       "        text-align: right;\n",
       "    }\n",
       "</style>\n",
       "<table border=\"1\" class=\"dataframe\">\n",
       "  <thead>\n",
       "    <tr style=\"text-align: right;\">\n",
       "      <th></th>\n",
       "      <th>user_id</th>\n",
       "      <th>group</th>\n",
       "      <th>ab_test</th>\n",
       "      <th>event_dt</th>\n",
       "      <th>event_name</th>\n",
       "      <th>details</th>\n",
       "      <th>first_date</th>\n",
       "      <th>region</th>\n",
       "      <th>device</th>\n",
       "    </tr>\n",
       "  </thead>\n",
       "  <tbody>\n",
       "    <tr>\n",
       "      <td>0</td>\n",
       "      <td>D1ABA3E2887B6A73</td>\n",
       "      <td>A</td>\n",
       "      <td>recommender_system_test</td>\n",
       "      <td>2020-12-07 14:43:27</td>\n",
       "      <td>purchase</td>\n",
       "      <td>99.989998</td>\n",
       "      <td>2020-12-07</td>\n",
       "      <td>EU</td>\n",
       "      <td>PC</td>\n",
       "    </tr>\n",
       "    <tr>\n",
       "      <td>1</td>\n",
       "      <td>D1ABA3E2887B6A73</td>\n",
       "      <td>A</td>\n",
       "      <td>recommender_system_test</td>\n",
       "      <td>2020-12-25 00:04:56</td>\n",
       "      <td>purchase</td>\n",
       "      <td>4.990000</td>\n",
       "      <td>2020-12-07</td>\n",
       "      <td>EU</td>\n",
       "      <td>PC</td>\n",
       "    </tr>\n",
       "    <tr>\n",
       "      <td>2</td>\n",
       "      <td>D1ABA3E2887B6A73</td>\n",
       "      <td>A</td>\n",
       "      <td>recommender_system_test</td>\n",
       "      <td>2020-12-07 14:43:29</td>\n",
       "      <td>product_cart</td>\n",
       "      <td>0.000000</td>\n",
       "      <td>2020-12-07</td>\n",
       "      <td>EU</td>\n",
       "      <td>PC</td>\n",
       "    </tr>\n",
       "    <tr>\n",
       "      <td>3</td>\n",
       "      <td>D1ABA3E2887B6A73</td>\n",
       "      <td>A</td>\n",
       "      <td>recommender_system_test</td>\n",
       "      <td>2020-12-25 00:04:57</td>\n",
       "      <td>product_cart</td>\n",
       "      <td>0.000000</td>\n",
       "      <td>2020-12-07</td>\n",
       "      <td>EU</td>\n",
       "      <td>PC</td>\n",
       "    </tr>\n",
       "    <tr>\n",
       "      <td>4</td>\n",
       "      <td>D1ABA3E2887B6A73</td>\n",
       "      <td>A</td>\n",
       "      <td>recommender_system_test</td>\n",
       "      <td>2020-12-07 14:43:27</td>\n",
       "      <td>product_page</td>\n",
       "      <td>0.000000</td>\n",
       "      <td>2020-12-07</td>\n",
       "      <td>EU</td>\n",
       "      <td>PC</td>\n",
       "    </tr>\n",
       "    <tr>\n",
       "      <td>...</td>\n",
       "      <td>...</td>\n",
       "      <td>...</td>\n",
       "      <td>...</td>\n",
       "      <td>...</td>\n",
       "      <td>...</td>\n",
       "      <td>...</td>\n",
       "      <td>...</td>\n",
       "      <td>...</td>\n",
       "      <td>...</td>\n",
       "    </tr>\n",
       "    <tr>\n",
       "      <td>24693</td>\n",
       "      <td>6715343AFBA285AE</td>\n",
       "      <td>B</td>\n",
       "      <td>recommender_system_test</td>\n",
       "      <td>2020-12-07 10:12:15</td>\n",
       "      <td>login</td>\n",
       "      <td>0.000000</td>\n",
       "      <td>2020-12-07</td>\n",
       "      <td>CIS</td>\n",
       "      <td>Android</td>\n",
       "    </tr>\n",
       "    <tr>\n",
       "      <td>24694</td>\n",
       "      <td>6715343AFBA285AE</td>\n",
       "      <td>B</td>\n",
       "      <td>recommender_system_test</td>\n",
       "      <td>2020-12-08 22:51:16</td>\n",
       "      <td>login</td>\n",
       "      <td>0.000000</td>\n",
       "      <td>2020-12-07</td>\n",
       "      <td>CIS</td>\n",
       "      <td>Android</td>\n",
       "    </tr>\n",
       "    <tr>\n",
       "      <td>24695</td>\n",
       "      <td>6715343AFBA285AE</td>\n",
       "      <td>B</td>\n",
       "      <td>recommender_system_test</td>\n",
       "      <td>2020-12-09 02:28:03</td>\n",
       "      <td>login</td>\n",
       "      <td>0.000000</td>\n",
       "      <td>2020-12-07</td>\n",
       "      <td>CIS</td>\n",
       "      <td>Android</td>\n",
       "    </tr>\n",
       "    <tr>\n",
       "      <td>24696</td>\n",
       "      <td>6715343AFBA285AE</td>\n",
       "      <td>B</td>\n",
       "      <td>recommender_system_test</td>\n",
       "      <td>2020-12-10 22:55:14</td>\n",
       "      <td>login</td>\n",
       "      <td>0.000000</td>\n",
       "      <td>2020-12-07</td>\n",
       "      <td>CIS</td>\n",
       "      <td>Android</td>\n",
       "    </tr>\n",
       "    <tr>\n",
       "      <td>24697</td>\n",
       "      <td>6715343AFBA285AE</td>\n",
       "      <td>B</td>\n",
       "      <td>recommender_system_test</td>\n",
       "      <td>2020-12-14 12:40:41</td>\n",
       "      <td>login</td>\n",
       "      <td>0.000000</td>\n",
       "      <td>2020-12-07</td>\n",
       "      <td>CIS</td>\n",
       "      <td>Android</td>\n",
       "    </tr>\n",
       "  </tbody>\n",
       "</table>\n",
       "<p>24698 rows × 9 columns</p>\n",
       "</div>"
      ],
      "text/plain": [
       "                user_id group                  ab_test            event_dt  \\\n",
       "0      D1ABA3E2887B6A73     A  recommender_system_test 2020-12-07 14:43:27   \n",
       "1      D1ABA3E2887B6A73     A  recommender_system_test 2020-12-25 00:04:56   \n",
       "2      D1ABA3E2887B6A73     A  recommender_system_test 2020-12-07 14:43:29   \n",
       "3      D1ABA3E2887B6A73     A  recommender_system_test 2020-12-25 00:04:57   \n",
       "4      D1ABA3E2887B6A73     A  recommender_system_test 2020-12-07 14:43:27   \n",
       "...                 ...   ...                      ...                 ...   \n",
       "24693  6715343AFBA285AE     B  recommender_system_test 2020-12-07 10:12:15   \n",
       "24694  6715343AFBA285AE     B  recommender_system_test 2020-12-08 22:51:16   \n",
       "24695  6715343AFBA285AE     B  recommender_system_test 2020-12-09 02:28:03   \n",
       "24696  6715343AFBA285AE     B  recommender_system_test 2020-12-10 22:55:14   \n",
       "24697  6715343AFBA285AE     B  recommender_system_test 2020-12-14 12:40:41   \n",
       "\n",
       "         event_name    details  first_date region   device  \n",
       "0          purchase  99.989998  2020-12-07     EU       PC  \n",
       "1          purchase   4.990000  2020-12-07     EU       PC  \n",
       "2      product_cart   0.000000  2020-12-07     EU       PC  \n",
       "3      product_cart   0.000000  2020-12-07     EU       PC  \n",
       "4      product_page   0.000000  2020-12-07     EU       PC  \n",
       "...             ...        ...         ...    ...      ...  \n",
       "24693         login   0.000000  2020-12-07    CIS  Android  \n",
       "24694         login   0.000000  2020-12-07    CIS  Android  \n",
       "24695         login   0.000000  2020-12-07    CIS  Android  \n",
       "24696         login   0.000000  2020-12-07    CIS  Android  \n",
       "24697         login   0.000000  2020-12-07    CIS  Android  \n",
       "\n",
       "[24698 rows x 9 columns]"
      ]
     },
     "execution_count": 21,
     "metadata": {},
     "output_type": "execute_result"
    }
   ],
   "source": [
    "# table with full user data including country and device type\n",
    "full_data = partcs_events.merge(final_ab_new_users, on='user_id', how='right').dropna()\n",
    "full_data"
   ]
  },
  {
   "cell_type": "code",
   "execution_count": 22,
   "metadata": {},
   "outputs": [
    {
     "data": {
      "image/png": "[encoded data removed]",
      "text/plain": [
       "<Figure size 720x432 with 1 Axes>"
      ]
     },
     "metadata": {
      "needs_background": "light"
     },
     "output_type": "display_data"
    }
   ],
   "source": [
    "full_data.query('region==\"EU\"').groupby('event_name').agg({'user_id':'nunique'}).sort_values(by='user_id').plot(kind='barh', figsize=(10,6))\n",
    "plt.title('Event funnel for EU, unique users')\n",
    "plt.ylabel('Event Name')\n",
    "plt.xlabel('Number of users')\n",
    "plt.show()"
   ]
  },
  {
   "cell_type": "markdown",
   "metadata": {},
   "source": [
    "As with the general funnel, event funnel for EU users only also has purchase step before the preceding product_cart step."
   ]
  },
  {
   "cell_type": "code",
   "execution_count": 23,
   "metadata": {},
   "outputs": [
    {
     "data": {
      "text/html": [
       "<div>\n",
       "<style scoped>\n",
       "    .dataframe tbody tr th:only-of-type {\n",
       "        vertical-align: middle;\n",
       "    }\n",
       "\n",
       "    .dataframe tbody tr th {\n",
       "        vertical-align: top;\n",
       "    }\n",
       "\n",
       "    .dataframe thead th {\n",
       "        text-align: right;\n",
       "    }\n",
       "</style>\n",
       "<table border=\"1\" class=\"dataframe\">\n",
       "  <thead>\n",
       "    <tr style=\"text-align: right;\">\n",
       "      <th></th>\n",
       "      <th>user_id</th>\n",
       "      <th>login</th>\n",
       "      <th>product_cart</th>\n",
       "      <th>product_page</th>\n",
       "      <th>purchase</th>\n",
       "      <th>total_events</th>\n",
       "      <th>group</th>\n",
       "    </tr>\n",
       "  </thead>\n",
       "  <tbody>\n",
       "    <tr>\n",
       "      <td>0</td>\n",
       "      <td>001064FEAAB631A1</td>\n",
       "      <td>3.0</td>\n",
       "      <td>0.0</td>\n",
       "      <td>3.0</td>\n",
       "      <td>0.0</td>\n",
       "      <td>6.0</td>\n",
       "      <td>B</td>\n",
       "    </tr>\n",
       "    <tr>\n",
       "      <td>1</td>\n",
       "      <td>0010A1C096941592</td>\n",
       "      <td>4.0</td>\n",
       "      <td>0.0</td>\n",
       "      <td>4.0</td>\n",
       "      <td>4.0</td>\n",
       "      <td>12.0</td>\n",
       "      <td>A</td>\n",
       "    </tr>\n",
       "    <tr>\n",
       "      <td>2</td>\n",
       "      <td>00341D8401F0F665</td>\n",
       "      <td>2.0</td>\n",
       "      <td>0.0</td>\n",
       "      <td>0.0</td>\n",
       "      <td>0.0</td>\n",
       "      <td>2.0</td>\n",
       "      <td>A</td>\n",
       "    </tr>\n",
       "    <tr>\n",
       "      <td>3</td>\n",
       "      <td>003DF44D7589BBD4</td>\n",
       "      <td>5.0</td>\n",
       "      <td>5.0</td>\n",
       "      <td>5.0</td>\n",
       "      <td>0.0</td>\n",
       "      <td>15.0</td>\n",
       "      <td>A</td>\n",
       "    </tr>\n",
       "    <tr>\n",
       "      <td>4</td>\n",
       "      <td>00505E15A9D81546</td>\n",
       "      <td>5.0</td>\n",
       "      <td>0.0</td>\n",
       "      <td>0.0</td>\n",
       "      <td>0.0</td>\n",
       "      <td>5.0</td>\n",
       "      <td>A</td>\n",
       "    </tr>\n",
       "    <tr>\n",
       "      <td>...</td>\n",
       "      <td>...</td>\n",
       "      <td>...</td>\n",
       "      <td>...</td>\n",
       "      <td>...</td>\n",
       "      <td>...</td>\n",
       "      <td>...</td>\n",
       "      <td>...</td>\n",
       "    </tr>\n",
       "    <tr>\n",
       "      <td>3476</td>\n",
       "      <td>FF5B24BCE4387F86</td>\n",
       "      <td>3.0</td>\n",
       "      <td>0.0</td>\n",
       "      <td>3.0</td>\n",
       "      <td>3.0</td>\n",
       "      <td>9.0</td>\n",
       "      <td>A</td>\n",
       "    </tr>\n",
       "    <tr>\n",
       "      <td>3477</td>\n",
       "      <td>FF825C1D791989B5</td>\n",
       "      <td>4.0</td>\n",
       "      <td>4.0</td>\n",
       "      <td>0.0</td>\n",
       "      <td>0.0</td>\n",
       "      <td>8.0</td>\n",
       "      <td>A</td>\n",
       "    </tr>\n",
       "    <tr>\n",
       "      <td>3478</td>\n",
       "      <td>FF8CF7057415EB29</td>\n",
       "      <td>2.0</td>\n",
       "      <td>0.0</td>\n",
       "      <td>2.0</td>\n",
       "      <td>0.0</td>\n",
       "      <td>4.0</td>\n",
       "      <td>B</td>\n",
       "    </tr>\n",
       "    <tr>\n",
       "      <td>3479</td>\n",
       "      <td>FFAE9489C76F352B</td>\n",
       "      <td>3.0</td>\n",
       "      <td>0.0</td>\n",
       "      <td>3.0</td>\n",
       "      <td>0.0</td>\n",
       "      <td>6.0</td>\n",
       "      <td>A</td>\n",
       "    </tr>\n",
       "    <tr>\n",
       "      <td>3480</td>\n",
       "      <td>FFF28D02B1EACBE1</td>\n",
       "      <td>3.0</td>\n",
       "      <td>3.0</td>\n",
       "      <td>3.0</td>\n",
       "      <td>0.0</td>\n",
       "      <td>9.0</td>\n",
       "      <td>B</td>\n",
       "    </tr>\n",
       "  </tbody>\n",
       "</table>\n",
       "<p>3481 rows × 7 columns</p>\n",
       "</div>"
      ],
      "text/plain": [
       "               user_id  login  product_cart  product_page  purchase  \\\n",
       "0     001064FEAAB631A1    3.0           0.0           3.0       0.0   \n",
       "1     0010A1C096941592    4.0           0.0           4.0       4.0   \n",
       "2     00341D8401F0F665    2.0           0.0           0.0       0.0   \n",
       "3     003DF44D7589BBD4    5.0           5.0           5.0       0.0   \n",
       "4     00505E15A9D81546    5.0           0.0           0.0       0.0   \n",
       "...                ...    ...           ...           ...       ...   \n",
       "3476  FF5B24BCE4387F86    3.0           0.0           3.0       3.0   \n",
       "3477  FF825C1D791989B5    4.0           4.0           0.0       0.0   \n",
       "3478  FF8CF7057415EB29    2.0           0.0           2.0       0.0   \n",
       "3479  FFAE9489C76F352B    3.0           0.0           3.0       0.0   \n",
       "3480  FFF28D02B1EACBE1    3.0           3.0           3.0       0.0   \n",
       "\n",
       "      total_events group  \n",
       "0              6.0     B  \n",
       "1             12.0     A  \n",
       "2              2.0     A  \n",
       "3             15.0     A  \n",
       "4              5.0     A  \n",
       "...            ...   ...  \n",
       "3476           9.0     A  \n",
       "3477           8.0     A  \n",
       "3478           4.0     B  \n",
       "3479           6.0     A  \n",
       "3480           9.0     B  \n",
       "\n",
       "[3481 rows x 7 columns]"
      ]
     },
     "execution_count": 23,
     "metadata": {},
     "output_type": "execute_result"
    }
   ],
   "source": [
    "number_events_per_userEU = full_data.query('region==\"EU\"').pivot_table(index='user_id', columns='event_name', values='event_dt', aggfunc='count')\\\n",
    "                         .fillna(0).reset_index(drop=False)\n",
    "number_events_per_userEU['total_events'] = number_events_per_userEU['login'] + number_events_per_userEU['product_cart'] + \\\n",
    "                                        number_events_per_userEU['product_page'] + number_events_per_userEU['purchase']\n",
    "\n",
    "#groups = partcs_events.drop(columns={'ab_test', 'event_dt', 'event_name', 'details'})\n",
    "number_events_per_userEU = number_events_per_userEU.merge(groups, on='user_id', how='inner').drop_duplicates().reset_index(drop=True)\n",
    "number_events_per_userEU"
   ]
  },
  {
   "cell_type": "code",
   "execution_count": 24,
   "metadata": {},
   "outputs": [
    {
     "data": {
      "text/html": [
       "<div>\n",
       "<style scoped>\n",
       "    .dataframe tbody tr th:only-of-type {\n",
       "        vertical-align: middle;\n",
       "    }\n",
       "\n",
       "    .dataframe tbody tr th {\n",
       "        vertical-align: top;\n",
       "    }\n",
       "\n",
       "    .dataframe thead th {\n",
       "        text-align: right;\n",
       "    }\n",
       "</style>\n",
       "<table border=\"1\" class=\"dataframe\">\n",
       "  <thead>\n",
       "    <tr style=\"text-align: right;\">\n",
       "      <th></th>\n",
       "      <th>login</th>\n",
       "      <th>product_page</th>\n",
       "      <th>product_cart</th>\n",
       "      <th>purchase</th>\n",
       "      <th>total_events</th>\n",
       "    </tr>\n",
       "    <tr>\n",
       "      <th>group</th>\n",
       "      <th></th>\n",
       "      <th></th>\n",
       "      <th></th>\n",
       "      <th></th>\n",
       "      <th></th>\n",
       "    </tr>\n",
       "  </thead>\n",
       "  <tbody>\n",
       "    <tr>\n",
       "      <td>A</td>\n",
       "      <td>3.119816</td>\n",
       "      <td>2.007296</td>\n",
       "      <td>0.930108</td>\n",
       "      <td>0.973886</td>\n",
       "      <td>7.031106</td>\n",
       "    </tr>\n",
       "    <tr>\n",
       "      <td>B</td>\n",
       "      <td>2.817560</td>\n",
       "      <td>1.513113</td>\n",
       "      <td>0.744584</td>\n",
       "      <td>0.752566</td>\n",
       "      <td>5.827822</td>\n",
       "    </tr>\n",
       "  </tbody>\n",
       "</table>\n",
       "</div>"
      ],
      "text/plain": [
       "          login  product_page  product_cart  purchase  total_events\n",
       "group                                                              \n",
       "A      3.119816      2.007296      0.930108  0.973886      7.031106\n",
       "B      2.817560      1.513113      0.744584  0.752566      5.827822"
      ]
     },
     "execution_count": 24,
     "metadata": {},
     "output_type": "execute_result"
    }
   ],
   "source": [
    "number_events_per_userEU.groupby('group').agg({'login':'mean', 'product_page':'mean', 'product_cart':'mean', 'purchase':'mean', 'total_events':'mean'})"
   ]
  },
  {
   "cell_type": "markdown",
   "metadata": {},
   "source": [
    "The analysis shows that the number of events per EU user is same and actually the majority of test participants are from EU."
   ]
  },
  {
   "cell_type": "markdown",
   "metadata": {},
   "source": [
    "---\n",
    "\n",
    "<div class=\"alert alert-block alert-success\">\n",
    "    \n",
    "\n",
    "### Reviewer's comment\n",
    "\n",
    "Good conclusion.\n",
    "    \n",
    "Difference in group sizes is not good  but sometimes we ignore it arranging AB test\n",
    "\n",
    "</div>\n",
    "\n",
    "---"
   ]
  },
  {
   "cell_type": "markdown",
   "metadata": {},
   "source": [
    "---\n",
    "\n",
    "<div class=\"alert alert-block alert-danger\">\n",
    "    \n",
    "\n",
    "### Reviewer's comment\n",
    "\n",
    "You've done deep and detailed funnel analysis but could you check one more time (in this section and below):\n",
    "- analyse only EU users\n",
    "- marketing events intersection\n",
    "\n",
    "</div>\n",
    "\n",
    "---"
   ]
  },
  {
   "cell_type": "markdown",
   "metadata": {},
   "source": [
    "The further analysis will only consider EU users because of two reasons:\n",
    "1. The EU users are the majority of users.\n",
    "2. In order to provide correct A/B test analysis the groups must have equal conditions except for only one variable. It is not the case according to the datasets (full_data and ab_events). CIS users and EU users, who were chosen for the test, actually participated in different marketing events, which are overlapping. EU users were offered Christmas&New Year promo, whereas CIS users were offered CIS New Year gift lottery. Due to that fact it is not correct to include both regions in one test."
   ]
  },
  {
   "cell_type": "markdown",
   "metadata": {},
   "source": [
    "---\n",
    "\n",
    "<div class=\"alert alert-block alert-danger\">\n",
    "    \n",
    "\n",
    "### Reviewer's comment V2\n",
    "\n",
    "- You did a good job analysing marketing events intesection - but what was outcome after this? What to do with these users? \n",
    "- Thank you for checking EU user, but you should go deeper and perform further steps using EU users or explain why do use not only EU region \n",
    "\n",
    "</div>\n",
    "\n",
    "---"
   ]
  },
  {
   "cell_type": "markdown",
   "metadata": {},
   "source": [
    "---\n",
    "\n",
    "<div class=\"alert alert-block alert-success\">\n",
    "    \n",
    "\n",
    "### Reviewer's comment V3\n",
    "\n",
    "Thank you for performing analysis of EU users and marketing events intersections\n",
    "\n",
    "</div>\n",
    "\n",
    "---"
   ]
  },
  {
   "cell_type": "markdown",
   "metadata": {},
   "source": [
    "### Are there users who are present in both samples?"
   ]
  },
  {
   "cell_type": "code",
   "execution_count": 25,
   "metadata": {},
   "outputs": [],
   "source": [
    "# The participants_events dataset is divided into 2 datasets with only A or B groups\n",
    "groupA = partcs_events.query('group==\"A\"')\n",
    "groupB = partcs_events.query('group==\"B\"')\n",
    "# Groups are merged if they have common user_ids\n",
    "AB = groupA.merge(groupB, on='user_id', how='inner')"
   ]
  },
  {
   "cell_type": "code",
   "execution_count": 26,
   "metadata": {},
   "outputs": [
    {
     "data": {
      "text/html": [
       "<div>\n",
       "<style scoped>\n",
       "    .dataframe tbody tr th:only-of-type {\n",
       "        vertical-align: middle;\n",
       "    }\n",
       "\n",
       "    .dataframe tbody tr th {\n",
       "        vertical-align: top;\n",
       "    }\n",
       "\n",
       "    .dataframe thead th {\n",
       "        text-align: right;\n",
       "    }\n",
       "</style>\n",
       "<table border=\"1\" class=\"dataframe\">\n",
       "  <thead>\n",
       "    <tr style=\"text-align: right;\">\n",
       "      <th></th>\n",
       "      <th>user_id</th>\n",
       "      <th>group_x</th>\n",
       "      <th>ab_test_x</th>\n",
       "      <th>event_dt_x</th>\n",
       "      <th>event_name_x</th>\n",
       "      <th>details_x</th>\n",
       "      <th>group_y</th>\n",
       "      <th>ab_test_y</th>\n",
       "      <th>event_dt_y</th>\n",
       "      <th>event_name_y</th>\n",
       "      <th>details_y</th>\n",
       "    </tr>\n",
       "  </thead>\n",
       "  <tbody>\n",
       "  </tbody>\n",
       "</table>\n",
       "</div>"
      ],
      "text/plain": [
       "Empty DataFrame\n",
       "Columns: [user_id, group_x, ab_test_x, event_dt_x, event_name_x, details_x, group_y, ab_test_y, event_dt_y, event_name_y, details_y]\n",
       "Index: []"
      ]
     },
     "execution_count": 26,
     "metadata": {},
     "output_type": "execute_result"
    }
   ],
   "source": [
    "AB"
   ]
  },
  {
   "cell_type": "markdown",
   "metadata": {},
   "source": [
    "There are no users who are present in both groups."
   ]
  },
  {
   "cell_type": "markdown",
   "metadata": {},
   "source": [
    "### How is the number of events distributed among days? The analysis only included EU users"
   ]
  },
  {
   "cell_type": "code",
   "execution_count": 27,
   "metadata": {},
   "outputs": [],
   "source": [
    "full_dataEU = full_data.query('region==\"EU\"')"
   ]
  },
  {
   "cell_type": "code",
   "execution_count": 28,
   "metadata": {
    "scrolled": false
   },
   "outputs": [
    {
     "name": "stderr",
     "output_type": "stream",
     "text": [
      "/opt/conda/lib/python3.7/site-packages/ipykernel_launcher.py:1: SettingWithCopyWarning:\n",
      "\n",
      "\n",
      "A value is trying to be set on a copy of a slice from a DataFrame.\n",
      "Try using .loc[row_indexer,col_indexer] = value instead\n",
      "\n",
      "See the caveats in the documentation: http://pandas.pydata.org/pandas-docs/stable/user_guide/indexing.html#returning-a-view-versus-a-copy\n",
      "\n"
     ]
    },
    {
     "data": {
      "image/png": "[encoded data removed]",
      "text/plain": [
       "<Figure size 720x504 with 1 Axes>"
      ]
     },
     "metadata": {
      "needs_background": "light"
     },
     "output_type": "display_data"
    }
   ],
   "source": [
    "full_dataEU['date'] = full_dataEU['event_dt'].dt.date\n",
    "events_by_dates = full_dataEU.pivot_table(index='date', columns='event_name', values='details', aggfunc='count').reset_index(drop=False)\n",
    "\n",
    "events_by_dates.plot(x='date', figsize=(10, 7), grid=True)\n",
    "plt.xlabel('Date')\n",
    "plt.ylabel('Number of events')\n",
    "plt.title('Event distribution by dates')\n",
    "plt.show()"
   ]
  },
  {
   "cell_type": "markdown",
   "metadata": {},
   "source": [
    "The number of events was decreasing till 2020-12-13 and then it spiked and continued to increase till 2020-12-21, which is due to the fact that no new users were accepted for the test. Right after Christmas Eve the number of events gradually decreased to 0. "
   ]
  },
  {
   "cell_type": "markdown",
   "metadata": {},
   "source": [
    "### Are there any peculiarities in the data that you have to take into account before starting the A/B test?"
   ]
  },
  {
   "cell_type": "code",
   "execution_count": 29,
   "metadata": {},
   "outputs": [],
   "source": [
    "# Creating a table which shows when each user went through a particular step\n",
    "users = full_dataEU.groupby(['event_name', 'user_id' ,'date']).agg({'details':'count'}).reset_index(drop=False)\n",
    "login_users = users.query('event_name==\"login\"')\n",
    "ppage_users = users.query('event_name==\"product_page\"')\n",
    "pcart_users = users.query('event_name==\"product_cart\"')\n",
    "purch_users = users.query('event_name==\"purchase\"')"
   ]
  },
  {
   "cell_type": "code",
   "execution_count": 30,
   "metadata": {},
   "outputs": [],
   "source": [
    "test1 = login_users.merge(ppage_users, on=['user_id', 'date'], how='outer')\n",
    "test1.rename(columns={'event_name_x':'login_event', 'details_x':'number_of_logins', 'event_name_y':'ppage_event', 'details_y':'number_of_ppage'}, inplace=True)\n",
    "test2 = test1.merge(pcart_users, on=['user_id', 'date'], how='outer')\n",
    "\n",
    "test3 = test2.merge(purch_users, on=['user_id', 'date'], how='outer')\n",
    "test3.rename(columns={'event_name_x':'pcart_event', 'details_x':'number_of_pcart', 'event_name_y':'purch', 'details_y':'number_of_purch'}, inplace=True)\n",
    "test3 = test3[['user_id', 'date', 'number_of_logins', 'number_of_ppage', 'number_of_pcart', \n",
    "       'number_of_purch']]"
   ]
  },
  {
   "cell_type": "code",
   "execution_count": 31,
   "metadata": {},
   "outputs": [],
   "source": [
    "test3.fillna(0, inplace=True)"
   ]
  },
  {
   "cell_type": "code",
   "execution_count": 32,
   "metadata": {
    "scrolled": false
   },
   "outputs": [
    {
     "data": {
      "text/html": [
       "<div>\n",
       "<style scoped>\n",
       "    .dataframe tbody tr th:only-of-type {\n",
       "        vertical-align: middle;\n",
       "    }\n",
       "\n",
       "    .dataframe tbody tr th {\n",
       "        vertical-align: top;\n",
       "    }\n",
       "\n",
       "    .dataframe thead th {\n",
       "        text-align: right;\n",
       "    }\n",
       "</style>\n",
       "<table border=\"1\" class=\"dataframe\">\n",
       "  <thead>\n",
       "    <tr style=\"text-align: right;\">\n",
       "      <th></th>\n",
       "      <th>user_id</th>\n",
       "      <th>date</th>\n",
       "      <th>number_of_logins</th>\n",
       "      <th>number_of_ppage</th>\n",
       "      <th>number_of_pcart</th>\n",
       "      <th>number_of_purch</th>\n",
       "      <th>stage_number</th>\n",
       "    </tr>\n",
       "  </thead>\n",
       "  <tbody>\n",
       "    <tr>\n",
       "      <td>0</td>\n",
       "      <td>001064FEAAB631A1</td>\n",
       "      <td>2020-12-20</td>\n",
       "      <td>1.0</td>\n",
       "      <td>1.0</td>\n",
       "      <td>0.0</td>\n",
       "      <td>0.0</td>\n",
       "      <td>2.0</td>\n",
       "    </tr>\n",
       "    <tr>\n",
       "      <td>1</td>\n",
       "      <td>001064FEAAB631A1</td>\n",
       "      <td>2020-12-21</td>\n",
       "      <td>1.0</td>\n",
       "      <td>1.0</td>\n",
       "      <td>0.0</td>\n",
       "      <td>0.0</td>\n",
       "      <td>2.0</td>\n",
       "    </tr>\n",
       "    <tr>\n",
       "      <td>2</td>\n",
       "      <td>001064FEAAB631A1</td>\n",
       "      <td>2020-12-26</td>\n",
       "      <td>1.0</td>\n",
       "      <td>1.0</td>\n",
       "      <td>0.0</td>\n",
       "      <td>0.0</td>\n",
       "      <td>2.0</td>\n",
       "    </tr>\n",
       "    <tr>\n",
       "      <td>3</td>\n",
       "      <td>0010A1C096941592</td>\n",
       "      <td>2020-12-17</td>\n",
       "      <td>1.0</td>\n",
       "      <td>1.0</td>\n",
       "      <td>0.0</td>\n",
       "      <td>1.0</td>\n",
       "      <td>3.0</td>\n",
       "    </tr>\n",
       "    <tr>\n",
       "      <td>4</td>\n",
       "      <td>0010A1C096941592</td>\n",
       "      <td>2020-12-19</td>\n",
       "      <td>1.0</td>\n",
       "      <td>1.0</td>\n",
       "      <td>0.0</td>\n",
       "      <td>1.0</td>\n",
       "      <td>3.0</td>\n",
       "    </tr>\n",
       "    <tr>\n",
       "      <td>...</td>\n",
       "      <td>...</td>\n",
       "      <td>...</td>\n",
       "      <td>...</td>\n",
       "      <td>...</td>\n",
       "      <td>...</td>\n",
       "      <td>...</td>\n",
       "      <td>...</td>\n",
       "    </tr>\n",
       "    <tr>\n",
       "      <td>10600</td>\n",
       "      <td>90192F1A66D5A0AE</td>\n",
       "      <td>2020-12-08</td>\n",
       "      <td>0.0</td>\n",
       "      <td>0.0</td>\n",
       "      <td>0.0</td>\n",
       "      <td>1.0</td>\n",
       "      <td>1.0</td>\n",
       "    </tr>\n",
       "    <tr>\n",
       "      <td>10601</td>\n",
       "      <td>A5392D494EB71414</td>\n",
       "      <td>2020-12-07</td>\n",
       "      <td>0.0</td>\n",
       "      <td>0.0</td>\n",
       "      <td>0.0</td>\n",
       "      <td>1.0</td>\n",
       "      <td>1.0</td>\n",
       "    </tr>\n",
       "    <tr>\n",
       "      <td>10602</td>\n",
       "      <td>C3C56A2DFF10BC79</td>\n",
       "      <td>2020-12-07</td>\n",
       "      <td>0.0</td>\n",
       "      <td>0.0</td>\n",
       "      <td>0.0</td>\n",
       "      <td>1.0</td>\n",
       "      <td>1.0</td>\n",
       "    </tr>\n",
       "    <tr>\n",
       "      <td>10603</td>\n",
       "      <td>C7CB2F1BA42F102B</td>\n",
       "      <td>2020-12-07</td>\n",
       "      <td>0.0</td>\n",
       "      <td>0.0</td>\n",
       "      <td>0.0</td>\n",
       "      <td>1.0</td>\n",
       "      <td>1.0</td>\n",
       "    </tr>\n",
       "    <tr>\n",
       "      <td>10604</td>\n",
       "      <td>F4C8BB8D1622FE87</td>\n",
       "      <td>2020-12-07</td>\n",
       "      <td>0.0</td>\n",
       "      <td>0.0</td>\n",
       "      <td>0.0</td>\n",
       "      <td>1.0</td>\n",
       "      <td>1.0</td>\n",
       "    </tr>\n",
       "  </tbody>\n",
       "</table>\n",
       "<p>10605 rows × 7 columns</p>\n",
       "</div>"
      ],
      "text/plain": [
       "                user_id        date  number_of_logins  number_of_ppage  \\\n",
       "0      001064FEAAB631A1  2020-12-20               1.0              1.0   \n",
       "1      001064FEAAB631A1  2020-12-21               1.0              1.0   \n",
       "2      001064FEAAB631A1  2020-12-26               1.0              1.0   \n",
       "3      0010A1C096941592  2020-12-17               1.0              1.0   \n",
       "4      0010A1C096941592  2020-12-19               1.0              1.0   \n",
       "...                 ...         ...               ...              ...   \n",
       "10600  90192F1A66D5A0AE  2020-12-08               0.0              0.0   \n",
       "10601  A5392D494EB71414  2020-12-07               0.0              0.0   \n",
       "10602  C3C56A2DFF10BC79  2020-12-07               0.0              0.0   \n",
       "10603  C7CB2F1BA42F102B  2020-12-07               0.0              0.0   \n",
       "10604  F4C8BB8D1622FE87  2020-12-07               0.0              0.0   \n",
       "\n",
       "       number_of_pcart  number_of_purch  stage_number  \n",
       "0                  0.0              0.0           2.0  \n",
       "1                  0.0              0.0           2.0  \n",
       "2                  0.0              0.0           2.0  \n",
       "3                  0.0              1.0           3.0  \n",
       "4                  0.0              1.0           3.0  \n",
       "...                ...              ...           ...  \n",
       "10600              0.0              1.0           1.0  \n",
       "10601              0.0              1.0           1.0  \n",
       "10602              0.0              1.0           1.0  \n",
       "10603              0.0              1.0           1.0  \n",
       "10604              0.0              1.0           1.0  \n",
       "\n",
       "[10605 rows x 7 columns]"
      ]
     },
     "execution_count": 32,
     "metadata": {},
     "output_type": "execute_result"
    }
   ],
   "source": [
    "test3['stage_number'] = test3['number_of_logins'] + test3['number_of_ppage'] + test3['number_of_pcart'] + test3['number_of_purch']\n",
    "# final table after all merges\n",
    "test3"
   ]
  },
  {
   "cell_type": "markdown",
   "metadata": {},
   "source": [
    "The table above shows each user's path for each day she/he was active. Stage number shows how many steps each user went through on a day. "
   ]
  },
  {
   "cell_type": "code",
   "execution_count": 33,
   "metadata": {},
   "outputs": [
    {
     "data": {
      "text/plain": [
       "array([2., 3., 1., 4.])"
      ]
     },
     "execution_count": 33,
     "metadata": {},
     "output_type": "execute_result"
    }
   ],
   "source": [
    "test3.stage_number.unique()"
   ]
  },
  {
   "cell_type": "markdown",
   "metadata": {},
   "source": [
    "There are users who skipped some steps as well as those who went through all of them. The data investigation showed that some users skipped all steps and went directly to the purchase stage. Some part of users skipped product cart stage, i.e. their funnel is login->product_page->purchase. Stage number 2 shows those who logged in and viewed the product page only. "
   ]
  },
  {
   "cell_type": "markdown",
   "metadata": {},
   "source": [
    "The investigation above requires to divide users into 2 groups for correct conversion analysis: product_page->product_cart->purchase and product_page->purchase as many users skip the cart stage. This fact if not taken into account could destort the results. "
   ]
  },
  {
   "cell_type": "code",
   "execution_count": 34,
   "metadata": {},
   "outputs": [],
   "source": [
    "ppage_pcart = test3.query('number_of_ppage==1 and number_of_pcart==1')\n",
    "ppage_pcart = ppage_pcart.merge(full_dataEU[['user_id', 'group']], on='user_id', how='left')"
   ]
  },
  {
   "cell_type": "code",
   "execution_count": 35,
   "metadata": {},
   "outputs": [
    {
     "name": "stdout",
     "output_type": "stream",
     "text": [
      "Number of unique users from both groups who went through product cart after product page\n"
     ]
    },
    {
     "data": {
      "text/html": [
       "<div>\n",
       "<style scoped>\n",
       "    .dataframe tbody tr th:only-of-type {\n",
       "        vertical-align: middle;\n",
       "    }\n",
       "\n",
       "    .dataframe tbody tr th {\n",
       "        vertical-align: top;\n",
       "    }\n",
       "\n",
       "    .dataframe thead th {\n",
       "        text-align: right;\n",
       "    }\n",
       "</style>\n",
       "<table border=\"1\" class=\"dataframe\">\n",
       "  <thead>\n",
       "    <tr style=\"text-align: right;\">\n",
       "      <th></th>\n",
       "      <th>user_id</th>\n",
       "    </tr>\n",
       "    <tr>\n",
       "      <th>group</th>\n",
       "      <th></th>\n",
       "    </tr>\n",
       "  </thead>\n",
       "  <tbody>\n",
       "    <tr>\n",
       "      <td>A</td>\n",
       "      <td>510</td>\n",
       "    </tr>\n",
       "    <tr>\n",
       "      <td>B</td>\n",
       "      <td>136</td>\n",
       "    </tr>\n",
       "  </tbody>\n",
       "</table>\n",
       "</div>"
      ],
      "text/plain": [
       "       user_id\n",
       "group         \n",
       "A          510\n",
       "B          136"
      ]
     },
     "execution_count": 35,
     "metadata": {},
     "output_type": "execute_result"
    }
   ],
   "source": [
    "print('Number of unique users from both groups who went through product cart after product page')\n",
    "ppage_pcart.groupby('group').agg({'user_id':'nunique'})"
   ]
  },
  {
   "cell_type": "code",
   "execution_count": 36,
   "metadata": {},
   "outputs": [
    {
     "name": "stdout",
     "output_type": "stream",
     "text": [
      "Number of unique users from both groups who went through product cart and made a purchase\n"
     ]
    },
    {
     "data": {
      "text/html": [
       "<div>\n",
       "<style scoped>\n",
       "    .dataframe tbody tr th:only-of-type {\n",
       "        vertical-align: middle;\n",
       "    }\n",
       "\n",
       "    .dataframe tbody tr th {\n",
       "        vertical-align: top;\n",
       "    }\n",
       "\n",
       "    .dataframe thead th {\n",
       "        text-align: right;\n",
       "    }\n",
       "</style>\n",
       "<table border=\"1\" class=\"dataframe\">\n",
       "  <thead>\n",
       "    <tr style=\"text-align: right;\">\n",
       "      <th></th>\n",
       "      <th>user_id</th>\n",
       "    </tr>\n",
       "    <tr>\n",
       "      <th>group</th>\n",
       "      <th></th>\n",
       "    </tr>\n",
       "  </thead>\n",
       "  <tbody>\n",
       "    <tr>\n",
       "      <td>A</td>\n",
       "      <td>170</td>\n",
       "    </tr>\n",
       "    <tr>\n",
       "      <td>B</td>\n",
       "      <td>46</td>\n",
       "    </tr>\n",
       "  </tbody>\n",
       "</table>\n",
       "</div>"
      ],
      "text/plain": [
       "       user_id\n",
       "group         \n",
       "A          170\n",
       "B           46"
      ]
     },
     "execution_count": 36,
     "metadata": {},
     "output_type": "execute_result"
    }
   ],
   "source": [
    "print('Number of unique users from both groups who went through product cart and made a purchase')\n",
    "ppage_pcart.query('number_of_purch!=0').groupby('group').agg({'user_id':'nunique'})"
   ]
  },
  {
   "cell_type": "code",
   "execution_count": 37,
   "metadata": {},
   "outputs": [],
   "source": [
    "ppage_Npcart = test3.query('number_of_ppage==1 and number_of_pcart==0')\n",
    "ppage_Npcart = ppage_Npcart.merge(full_dataEU[['user_id', 'group']], on='user_id', how='left')"
   ]
  },
  {
   "cell_type": "code",
   "execution_count": 38,
   "metadata": {},
   "outputs": [
    {
     "name": "stdout",
     "output_type": "stream",
     "text": [
      "Number of unique users from both groups who did not go through product cart after product page\n"
     ]
    },
    {
     "data": {
      "text/html": [
       "<div>\n",
       "<style scoped>\n",
       "    .dataframe tbody tr th:only-of-type {\n",
       "        vertical-align: middle;\n",
       "    }\n",
       "\n",
       "    .dataframe tbody tr th {\n",
       "        vertical-align: top;\n",
       "    }\n",
       "\n",
       "    .dataframe thead th {\n",
       "        text-align: right;\n",
       "    }\n",
       "</style>\n",
       "<table border=\"1\" class=\"dataframe\">\n",
       "  <thead>\n",
       "    <tr style=\"text-align: right;\">\n",
       "      <th></th>\n",
       "      <th>user_id</th>\n",
       "    </tr>\n",
       "    <tr>\n",
       "      <th>group</th>\n",
       "      <th></th>\n",
       "    </tr>\n",
       "  </thead>\n",
       "  <tbody>\n",
       "    <tr>\n",
       "      <td>A</td>\n",
       "      <td>1175</td>\n",
       "    </tr>\n",
       "    <tr>\n",
       "      <td>B</td>\n",
       "      <td>357</td>\n",
       "    </tr>\n",
       "  </tbody>\n",
       "</table>\n",
       "</div>"
      ],
      "text/plain": [
       "       user_id\n",
       "group         \n",
       "A         1175\n",
       "B          357"
      ]
     },
     "execution_count": 38,
     "metadata": {},
     "output_type": "execute_result"
    }
   ],
   "source": [
    "print('Number of unique users from both groups who did not go through product cart after product page')\n",
    "ppage_Npcart.groupby('group').agg({'user_id':'nunique'})"
   ]
  },
  {
   "cell_type": "code",
   "execution_count": 39,
   "metadata": {},
   "outputs": [
    {
     "name": "stdout",
     "output_type": "stream",
     "text": [
      "Number of unique users from both groups who did not go through product cart after product page and made a purchase\n"
     ]
    },
    {
     "data": {
      "text/html": [
       "<div>\n",
       "<style scoped>\n",
       "    .dataframe tbody tr th:only-of-type {\n",
       "        vertical-align: middle;\n",
       "    }\n",
       "\n",
       "    .dataframe tbody tr th {\n",
       "        vertical-align: top;\n",
       "    }\n",
       "\n",
       "    .dataframe thead th {\n",
       "        text-align: right;\n",
       "    }\n",
       "</style>\n",
       "<table border=\"1\" class=\"dataframe\">\n",
       "  <thead>\n",
       "    <tr style=\"text-align: right;\">\n",
       "      <th></th>\n",
       "      <th>user_id</th>\n",
       "    </tr>\n",
       "    <tr>\n",
       "      <th>group</th>\n",
       "      <th></th>\n",
       "    </tr>\n",
       "  </thead>\n",
       "  <tbody>\n",
       "    <tr>\n",
       "      <td>A</td>\n",
       "      <td>409</td>\n",
       "    </tr>\n",
       "    <tr>\n",
       "      <td>B</td>\n",
       "      <td>109</td>\n",
       "    </tr>\n",
       "  </tbody>\n",
       "</table>\n",
       "</div>"
      ],
      "text/plain": [
       "       user_id\n",
       "group         \n",
       "A          409\n",
       "B          109"
      ]
     },
     "execution_count": 39,
     "metadata": {},
     "output_type": "execute_result"
    }
   ],
   "source": [
    "print('Number of unique users from both groups who did not go through product cart after product page and made a purchase')\n",
    "ppage_Npcart.query('number_of_purch!=0').groupby('group').agg({'user_id':'nunique'})"
   ]
  },
  {
   "cell_type": "code",
   "execution_count": 40,
   "metadata": {},
   "outputs": [
    {
     "name": "stdout",
     "output_type": "stream",
     "text": [
      "Number of people who skipped all funnel steps and made a purchase (both groups)\n"
     ]
    },
    {
     "data": {
      "text/plain": [
       "235"
      ]
     },
     "execution_count": 40,
     "metadata": {},
     "output_type": "execute_result"
    }
   ],
   "source": [
    "# number of those who skipped all funnel stages and made a purchase\n",
    "print('Number of people who skipped all funnel steps and made a purchase (both groups)')\n",
    "test3.query('number_of_ppage==0 and number_of_pcart==0 and number_of_purch==1').user_id.nunique()"
   ]
  },
  {
   "cell_type": "markdown",
   "metadata": {},
   "source": [
    "The EDA showed that there are peculiarities in the dataset that should be taken into account before hypothesis testing. i.e. There are two groups of users to consider, the statistical test for these funnel groups will be carried out separately. \n",
    "\n",
    "Funnel 1: product_page->product_cart->purchase\n",
    "\n",
    "Funnel 2: product_page->purchase\n",
    "\n",
    "The test will ignore those who skipped all funnel stages and went directly to the purchase stage. "
   ]
  },
  {
   "cell_type": "markdown",
   "metadata": {},
   "source": [
    "### Step 2. Conclusion"
   ]
  },
  {
   "cell_type": "markdown",
   "metadata": {},
   "source": [
    "According to the funnel the final step 'purchases' has larger number of users than the previous step 'product cart'. This is probably due to the 'Buy Now' button or other options which can offer users to buy products skipping some steps and go directly to the purchase stage. The number of events were analyzed for AB groups. Group B has much less users but the average amount of events per user is comparable to that of group A, which means that users from group B visit the site more often. There are no users who are present in both groups. The number of events ditribution among days showed that it was decreasing till 2020-12-13 and then it spiked and continued to increase till 2020-12-21, which is due to the fact that no new users were accepted for the test. Right after Christmas Eve the number of events gradually decreased to 0.\n",
    "\n",
    "There were users who skipped some steps as well as those who went through all of them. The data investigation showed that some users skipped all steps and went directly to the purchase stage. Some part of users skipped product cart stage, i.e. their funnel is login->product_page->purchase. There are peculiarities in the dataset that should be taken into account before hypothesis testing. i.e. There are two groups of users to consider, the statistical test for these funnel groups will be carried out separately."
   ]
  },
  {
   "cell_type": "markdown",
   "metadata": {},
   "source": [
    "---\n",
    "\n",
    "<div class=\"alert alert-block alert-success\">\n",
    "    \n",
    "\n",
    "### Reviewer's comment\n",
    "\n",
    "Great peculiarities  analysis\n",
    "    \n",
    "Interesting decision to separate funnel types  \n",
    "\n",
    "</div>\n",
    "\n",
    "---"
   ]
  },
  {
   "cell_type": "markdown",
   "metadata": {},
   "source": [
    "## Step 3. A/B test (EU users only)"
   ]
  },
  {
   "cell_type": "code",
   "execution_count": 41,
   "metadata": {},
   "outputs": [],
   "source": [
    "revenue = full_dataEU.groupby(['date', 'group']).agg({'details':'sum'}).reset_index(drop=False)"
   ]
  },
  {
   "cell_type": "code",
   "execution_count": 42,
   "metadata": {},
   "outputs": [
    {
     "data": {
      "image/png": "[encoded data removed]",
      "text/plain": [
       "<Figure size 720x504 with 1 Axes>"
      ]
     },
     "metadata": {
      "needs_background": "light"
     },
     "output_type": "display_data"
    }
   ],
   "source": [
    "revenueA = revenue.query('group==\"A\"')\n",
    "revenueB = revenue.query('group==\"B\"')\n",
    "\n",
    "plt.figure(figsize=(10,7))\n",
    "plt.plot(revenueA['date'], revenueA['details'], label='A')\n",
    "plt.plot(revenueB['date'], revenueB['details'], label='B')\n",
    "plt.legend()\n",
    "plt.title('Daily revenue by group EU')\n",
    "plt.xlabel('Dates')\n",
    "plt.ylabel('Revenue')\n",
    "plt.show()"
   ]
  },
  {
   "cell_type": "markdown",
   "metadata": {},
   "source": [
    "The graph above shows the daily amount of revenue for each group. As we can see it correlates with traffic number, i.e. 2020-12-21 had the highers traffic which led to highest revenue. Interestingly, there are dates when the revenue spiked for one group and dropped for another. For example, on 2020-12-13 and 2020-12-27. "
   ]
  },
  {
   "cell_type": "markdown",
   "metadata": {},
   "source": [
    "---\n",
    "\n",
    "<div class=\"alert alert-block alert-warning\">\n",
    "    \n",
    "\n",
    "### Reviewer's comment\n",
    "\n",
    "It's interesting plot, but it's not cumulative (in title). If you make it cumulative - it would be also intersting analysis\n",
    "\n",
    "</div>\n",
    "\n",
    "---"
   ]
  },
  {
   "cell_type": "code",
   "execution_count": 43,
   "metadata": {
    "scrolled": true
   },
   "outputs": [],
   "source": [
    "conversionA = full_dataEU.query('group==\"A\"').pivot_table(index='date', columns='event_name', values='user_id', aggfunc='count').reset_index(drop=False)\n",
    "conversionB = full_dataEU.query('group==\"B\"').pivot_table(index='date', columns='event_name', values='user_id', aggfunc='count').reset_index(drop=False)\n",
    "\n",
    "conversionA['conversion login->product_page'] = conversionA['product_page'] / conversionA['login']\n",
    "conversionB['conversion login->product_page'] = conversionB['product_page'] / conversionB['login']\n",
    "conversionA['conversion product_page->product_cart'] = conversionA['product_cart'] / conversionA['product_page']\n",
    "conversionB['conversion product_page->product_cart'] = conversionB['product_cart'] / conversionB['product_page']\n",
    "conversionA['conversion product_page->purchase'] = conversionA['purchase'] / conversionA['product_page']\n",
    "conversionB['conversion product_page->purchase'] = conversionB['purchase'] / conversionB['product_page']\n",
    "\n",
    "def conv_print(conv):\n",
    "    \n",
    "    plt.figure(figsize=(10,7))\n",
    "    plt.plot(conversionA['date'], conversionA[conv], label='A')\n",
    "    plt.plot(conversionB['date'], conversionB[conv], label='B')\n",
    "    plt.legend()\n",
    "    plt.title('Daily conversion rates by group')\n",
    "    plt.xlabel('Dates')\n",
    "    plt.ylabel(conv)\n",
    "    plt.show()"
   ]
  },
  {
   "cell_type": "code",
   "execution_count": 44,
   "metadata": {},
   "outputs": [
    {
     "data": {
      "image/png": "[encoded data removed]",
      "text/plain": [
       "<Figure size 720x504 with 1 Axes>"
      ]
     },
     "metadata": {
      "needs_background": "light"
     },
     "output_type": "display_data"
    }
   ],
   "source": [
    "conv_print('conversion login->product_page')"
   ]
  },
  {
   "cell_type": "markdown",
   "metadata": {},
   "source": [
    "The conversion rate of login->purchase page for group B dramatically increased and decreased from day to day, whereas the graph for group A is relatively stable with only occasional minor spikes. "
   ]
  },
  {
   "cell_type": "code",
   "execution_count": 45,
   "metadata": {},
   "outputs": [
    {
     "data": {
      "image/png": "[encoded data removed]",
      "text/plain": [
       "<Figure size 720x504 with 1 Axes>"
      ]
     },
     "metadata": {
      "needs_background": "light"
     },
     "output_type": "display_data"
    }
   ],
   "source": [
    "conv_print('conversion product_page->product_cart')"
   ]
  },
  {
   "cell_type": "markdown",
   "metadata": {},
   "source": [
    "The group B graph shows better results most of the days with the conversion rate being 0.4-0.6. "
   ]
  },
  {
   "cell_type": "code",
   "execution_count": 46,
   "metadata": {},
   "outputs": [
    {
     "data": {
      "image/png": "[encoded data removed]",
      "text/plain": [
       "<Figure size 720x504 with 1 Axes>"
      ]
     },
     "metadata": {
      "needs_background": "light"
     },
     "output_type": "display_data"
    }
   ],
   "source": [
    "conv_print('conversion product_page->purchase')"
   ]
  },
  {
   "cell_type": "markdown",
   "metadata": {},
   "source": [
    "The graph for this conversion rate again shows that group B users had better conversion rate from day to day in general, with the range being approximately 0.4-0.6 for group A and 0.4-0.7 for group B. "
   ]
  },
  {
   "cell_type": "code",
   "execution_count": 47,
   "metadata": {},
   "outputs": [
    {
     "data": {
      "image/png": "[encoded data removed]",
      "text/plain": [
       "<Figure size 720x504 with 1 Axes>"
      ]
     },
     "metadata": {
      "needs_background": "light"
     },
     "output_type": "display_data"
    }
   ],
   "source": [
    "revenue_by_user = full_dataEU.pivot_table(index='user_id', values='details', aggfunc='sum').reset_index()\n",
    "\n",
    "x_values = pd.Series(range(0,len(revenue_by_user['user_id'])))\n",
    "\n",
    "plt.figure(figsize=(10,7))\n",
    "plt.scatter(x=x_values, y=revenue_by_user['details'])\n",
    "plt.title('Revenue from unique EU user')\n",
    "plt.ylabel('Revenue amount')\n",
    "plt.xlabel('Total number of transactions')\n",
    "plt.show()"
   ]
  },
  {
   "cell_type": "markdown",
   "metadata": {},
   "source": [
    "The majority of users did not spend more than $100 on all of the transactions they made. "
   ]
  },
  {
   "cell_type": "code",
   "execution_count": 48,
   "metadata": {},
   "outputs": [
    {
     "name": "stdout",
     "output_type": "stream",
     "text": [
      "[114.95999908 509.97000122]\n"
     ]
    }
   ],
   "source": [
    "print(np.percentile(revenue_by_user['details'], [95, 99]))"
   ]
  },
  {
   "cell_type": "markdown",
   "metadata": {},
   "source": [
    "Only 5% of users spent more than $115.\n",
    "\n",
    "Only 1% of users spent more than $510, taking into account all their transactions (this is not revenue per one transaction)."
   ]
  },
  {
   "cell_type": "code",
   "execution_count": 49,
   "metadata": {},
   "outputs": [],
   "source": [
    "def group_graph(labels, groupA, groupB, n):\n",
    "\n",
    "    x = np.arange(len(labels))  # the label locations\n",
    "    width = 0.35  # the width of the bars\n",
    "\n",
    "    fig, ax = plt.subplots(figsize=(10, 7))\n",
    "    rects1 = ax.bar(x - width/2, groupA, width, label='A')\n",
    "    rects2 = ax.bar(x + width/2, groupB, width, label='B')\n",
    "\n",
    "    # Add some text for labels, title and custom x-axis tick labels, etc.\n",
    "    if n==1:\n",
    "        ax.set_xlabel('Country Name')\n",
    "        ax.set_ylabel('Number of users')\n",
    "        ax.set_title('Number of unique users for each country divided by groups')\n",
    "        ax.set_xticks(x)\n",
    "        ax.set_xticklabels(labels)\n",
    "        ax.legend()\n",
    "        plt.show()\n",
    "    if n==2:\n",
    "        ax.set_xlabel('Device Name')\n",
    "        ax.set_ylabel('Number of users')\n",
    "        ax.set_title('Number of unique users for each device divided by groups')\n",
    "        ax.set_xticks(x)\n",
    "        ax.set_xticklabels(labels)\n",
    "        ax.legend()\n",
    "        plt.show()        "
   ]
  },
  {
   "cell_type": "code",
   "execution_count": 50,
   "metadata": {},
   "outputs": [
    {
     "data": {
      "text/html": [
       "<div>\n",
       "<style scoped>\n",
       "    .dataframe tbody tr th:only-of-type {\n",
       "        vertical-align: middle;\n",
       "    }\n",
       "\n",
       "    .dataframe tbody tr th {\n",
       "        vertical-align: top;\n",
       "    }\n",
       "\n",
       "    .dataframe thead th {\n",
       "        text-align: right;\n",
       "    }\n",
       "</style>\n",
       "<table border=\"1\" class=\"dataframe\">\n",
       "  <thead>\n",
       "    <tr style=\"text-align: right;\">\n",
       "      <th></th>\n",
       "      <th></th>\n",
       "      <th>user_id</th>\n",
       "    </tr>\n",
       "    <tr>\n",
       "      <th>region</th>\n",
       "      <th>group</th>\n",
       "      <th></th>\n",
       "    </tr>\n",
       "  </thead>\n",
       "  <tbody>\n",
       "    <tr>\n",
       "      <td rowspan=\"2\" valign=\"top\">APAC</td>\n",
       "      <td>A</td>\n",
       "      <td>28</td>\n",
       "    </tr>\n",
       "    <tr>\n",
       "      <td>B</td>\n",
       "      <td>17</td>\n",
       "    </tr>\n",
       "    <tr>\n",
       "      <td rowspan=\"2\" valign=\"top\">CIS</td>\n",
       "      <td>A</td>\n",
       "      <td>19</td>\n",
       "    </tr>\n",
       "    <tr>\n",
       "      <td>B</td>\n",
       "      <td>11</td>\n",
       "    </tr>\n",
       "    <tr>\n",
       "      <td rowspan=\"2\" valign=\"top\">EU</td>\n",
       "      <td>A</td>\n",
       "      <td>2604</td>\n",
       "    </tr>\n",
       "    <tr>\n",
       "      <td>B</td>\n",
       "      <td>877</td>\n",
       "    </tr>\n",
       "    <tr>\n",
       "      <td rowspan=\"2\" valign=\"top\">N.America</td>\n",
       "      <td>A</td>\n",
       "      <td>96</td>\n",
       "    </tr>\n",
       "    <tr>\n",
       "      <td>B</td>\n",
       "      <td>23</td>\n",
       "    </tr>\n",
       "  </tbody>\n",
       "</table>\n",
       "</div>"
      ],
      "text/plain": [
       "                 user_id\n",
       "region    group         \n",
       "APAC      A           28\n",
       "          B           17\n",
       "CIS       A           19\n",
       "          B           11\n",
       "EU        A         2604\n",
       "          B          877\n",
       "N.America A           96\n",
       "          B           23"
      ]
     },
     "execution_count": 50,
     "metadata": {},
     "output_type": "execute_result"
    }
   ],
   "source": [
    "full_data.groupby(['region', 'group']).agg({'user_id':'nunique'})"
   ]
  },
  {
   "cell_type": "code",
   "execution_count": 51,
   "metadata": {},
   "outputs": [
    {
     "data": {
      "image/png": "[encoded data removed]",
      "text/plain": [
       "<Figure size 720x504 with 1 Axes>"
      ]
     },
     "metadata": {
      "needs_background": "light"
     },
     "output_type": "display_data"
    }
   ],
   "source": [
    "group_graph(['EU', 'N.America', 'APAC', 'CIS'], [2604, 96, 28, 19], [877, 23, 17, 11], 1)"
   ]
  },
  {
   "cell_type": "markdown",
   "metadata": {},
   "source": [
    "The users are distributed equally in both groups for each country. "
   ]
  },
  {
   "cell_type": "code",
   "execution_count": 52,
   "metadata": {},
   "outputs": [
    {
     "data": {
      "text/html": [
       "<div>\n",
       "<style scoped>\n",
       "    .dataframe tbody tr th:only-of-type {\n",
       "        vertical-align: middle;\n",
       "    }\n",
       "\n",
       "    .dataframe tbody tr th {\n",
       "        vertical-align: top;\n",
       "    }\n",
       "\n",
       "    .dataframe thead th {\n",
       "        text-align: right;\n",
       "    }\n",
       "</style>\n",
       "<table border=\"1\" class=\"dataframe\">\n",
       "  <thead>\n",
       "    <tr style=\"text-align: right;\">\n",
       "      <th></th>\n",
       "      <th></th>\n",
       "      <th>user_id</th>\n",
       "    </tr>\n",
       "    <tr>\n",
       "      <th>device</th>\n",
       "      <th>group</th>\n",
       "      <th></th>\n",
       "    </tr>\n",
       "  </thead>\n",
       "  <tbody>\n",
       "    <tr>\n",
       "      <td rowspan=\"2\" valign=\"top\">Android</td>\n",
       "      <td>A</td>\n",
       "      <td>1197</td>\n",
       "    </tr>\n",
       "    <tr>\n",
       "      <td>B</td>\n",
       "      <td>428</td>\n",
       "    </tr>\n",
       "    <tr>\n",
       "      <td rowspan=\"2\" valign=\"top\">Mac</td>\n",
       "      <td>A</td>\n",
       "      <td>270</td>\n",
       "    </tr>\n",
       "    <tr>\n",
       "      <td>B</td>\n",
       "      <td>76</td>\n",
       "    </tr>\n",
       "    <tr>\n",
       "      <td rowspan=\"2\" valign=\"top\">PC</td>\n",
       "      <td>A</td>\n",
       "      <td>726</td>\n",
       "    </tr>\n",
       "    <tr>\n",
       "      <td>B</td>\n",
       "      <td>227</td>\n",
       "    </tr>\n",
       "    <tr>\n",
       "      <td rowspan=\"2\" valign=\"top\">iPhone</td>\n",
       "      <td>A</td>\n",
       "      <td>554</td>\n",
       "    </tr>\n",
       "    <tr>\n",
       "      <td>B</td>\n",
       "      <td>197</td>\n",
       "    </tr>\n",
       "  </tbody>\n",
       "</table>\n",
       "</div>"
      ],
      "text/plain": [
       "               user_id\n",
       "device  group         \n",
       "Android A         1197\n",
       "        B          428\n",
       "Mac     A          270\n",
       "        B           76\n",
       "PC      A          726\n",
       "        B          227\n",
       "iPhone  A          554\n",
       "        B          197"
      ]
     },
     "execution_count": 52,
     "metadata": {},
     "output_type": "execute_result"
    }
   ],
   "source": [
    "full_data.groupby(['device', 'group']).agg({'user_id':'nunique'})"
   ]
  },
  {
   "cell_type": "code",
   "execution_count": 53,
   "metadata": {},
   "outputs": [
    {
     "data": {
      "image/png": "[encoded data removed]",
      "text/plain": [
       "<Figure size 720x504 with 1 Axes>"
      ]
     },
     "metadata": {
      "needs_background": "light"
     },
     "output_type": "display_data"
    }
   ],
   "source": [
    "group_graph(['Android', 'IPhone', 'PC', 'Mac'], [1197, 554, 726, 270], [428, 197, 227, 76], 2)"
   ]
  },
  {
   "cell_type": "markdown",
   "metadata": {},
   "source": [
    "The users are distributed equally in both groups for each device type. "
   ]
  },
  {
   "cell_type": "markdown",
   "metadata": {},
   "source": [
    "Group B showed better results for some conversion stages, more specifically product_page->product_cart and product_page->purchase. The daily conversion rates for product_cart->purchase were not graphed since the data is not divided into two funnel groups. In general the graphs are a little distorted as the data was not divided into different funnel types. Due to that one cannot draw conclusions based only on graphs and they show only rough representation of true outcomes. The statistical test results will show the correct results."
   ]
  },
  {
   "cell_type": "markdown",
   "metadata": {},
   "source": [
    "---\n",
    "\n",
    "<div class=\"alert alert-block alert-warning\">\n",
    "    \n",
    "\n",
    "### Reviewer's comment\n",
    "\n",
    "You made deep analysis of daily values per group! It's interesting (but not obligatory) to add cumulative values\n",
    "</div>\n",
    "\n",
    "---"
   ]
  },
  {
   "cell_type": "markdown",
   "metadata": {},
   "source": [
    "### Use a z-test to check the statistical difference between the proportions."
   ]
  },
  {
   "cell_type": "markdown",
   "metadata": {},
   "source": [
    "#### Hypotheses\n",
    "\n",
    "1. H0 - there is no difference in conversion rates for product_cart->purchase between groups A and B (specifically Funnel1). H1 - there is difference in conversion rates for product_cart->purchase between groups A and B.\n",
    "2. H0 - there is no difference in conversion rates for product_page->purchase between groups A and B (specifically Funnel2). H1 - there is difference in conversion rates for product_page->purchase between groups A and B."
   ]
  },
  {
   "cell_type": "markdown",
   "metadata": {},
   "source": [
    "### Hypothesis testing: Z-test"
   ]
  },
  {
   "cell_type": "code",
   "execution_count": 54,
   "metadata": {},
   "outputs": [
    {
     "data": {
      "text/html": [
       "<div>\n",
       "<style scoped>\n",
       "    .dataframe tbody tr th:only-of-type {\n",
       "        vertical-align: middle;\n",
       "    }\n",
       "\n",
       "    .dataframe tbody tr th {\n",
       "        vertical-align: top;\n",
       "    }\n",
       "\n",
       "    .dataframe thead th {\n",
       "        text-align: right;\n",
       "    }\n",
       "</style>\n",
       "<table border=\"1\" class=\"dataframe\">\n",
       "  <thead>\n",
       "    <tr style=\"text-align: right;\">\n",
       "      <th></th>\n",
       "      <th></th>\n",
       "      <th>user_id</th>\n",
       "    </tr>\n",
       "    <tr>\n",
       "      <th>event_name</th>\n",
       "      <th>group</th>\n",
       "      <th></th>\n",
       "    </tr>\n",
       "  </thead>\n",
       "  <tbody>\n",
       "    <tr>\n",
       "      <td rowspan=\"2\" valign=\"top\">login</td>\n",
       "      <td>A</td>\n",
       "      <td>2604</td>\n",
       "    </tr>\n",
       "    <tr>\n",
       "      <td>B</td>\n",
       "      <td>877</td>\n",
       "    </tr>\n",
       "    <tr>\n",
       "      <td rowspan=\"2\" valign=\"top\">product_cart</td>\n",
       "      <td>A</td>\n",
       "      <td>782</td>\n",
       "    </tr>\n",
       "    <tr>\n",
       "      <td>B</td>\n",
       "      <td>244</td>\n",
       "    </tr>\n",
       "    <tr>\n",
       "      <td rowspan=\"2\" valign=\"top\">product_page</td>\n",
       "      <td>A</td>\n",
       "      <td>1685</td>\n",
       "    </tr>\n",
       "    <tr>\n",
       "      <td>B</td>\n",
       "      <td>493</td>\n",
       "    </tr>\n",
       "    <tr>\n",
       "      <td rowspan=\"2\" valign=\"top\">purchase</td>\n",
       "      <td>A</td>\n",
       "      <td>833</td>\n",
       "    </tr>\n",
       "    <tr>\n",
       "      <td>B</td>\n",
       "      <td>249</td>\n",
       "    </tr>\n",
       "  </tbody>\n",
       "</table>\n",
       "</div>"
      ],
      "text/plain": [
       "                    user_id\n",
       "event_name   group         \n",
       "login        A         2604\n",
       "             B          877\n",
       "product_cart A          782\n",
       "             B          244\n",
       "product_page A         1685\n",
       "             B          493\n",
       "purchase     A          833\n",
       "             B          249"
      ]
     },
     "execution_count": 54,
     "metadata": {},
     "output_type": "execute_result"
    }
   ],
   "source": [
    "full_dataEU.groupby(['event_name', 'group']).agg({'user_id':'nunique'})"
   ]
  },
  {
   "cell_type": "code",
   "execution_count": 55,
   "metadata": {},
   "outputs": [],
   "source": [
    "def z_test(stage1, stage2):\n",
    "    \n",
    "    alpha = .05\n",
    "    product_page = stage2\n",
    "    logged_users = stage1\n",
    "\n",
    "    p1 = product_page[0]/logged_users[0]\n",
    "    p2 = product_page[1]/logged_users[1]\n",
    "\n",
    "    p_combined = (product_page[0] + product_page[1])/(logged_users[0] + logged_users[1])\n",
    "    diff = p1 - p2\n",
    "    z_value = diff / mth.sqrt(p_combined * (1-p_combined) * (1/logged_users[0] + 1/logged_users[1]))\n",
    "\n",
    "    distr = st.norm(0,1)\n",
    "\n",
    "    p_value = (1 - distr.cdf(abs(z_value))) * 2\n",
    "\n",
    "    print('p-value: ', p_value)\n",
    "\n",
    "    if (p_value < alpha):\n",
    "        print(\"Rejecting the null hypothesis: there is a significant difference between the proportions\")\n",
    "    else:\n",
    "        print(\"Failed to reject the null hypothesis: there is no reason to consider the proportions different\")"
   ]
  },
  {
   "cell_type": "markdown",
   "metadata": {},
   "source": [
    "---\n",
    "\n",
    "<div class=\"alert alert-block alert-warning\">\n",
    "    \n",
    "\n",
    "### Reviewer's comment\n",
    "\n",
    "It's great that you tested all the funnel steps. But more often we test only result event conversion  (as below)\n",
    "</div>\n",
    "\n",
    "---"
   ]
  },
  {
   "cell_type": "markdown",
   "metadata": {},
   "source": [
    "Testing two funnels:\n",
    "\n",
    "Funnel 1: product_page->product_cart->purchase\n",
    "\n",
    "Funnel 2: product_page->purchase"
   ]
  },
  {
   "cell_type": "code",
   "execution_count": 56,
   "metadata": {},
   "outputs": [
    {
     "name": "stdout",
     "output_type": "stream",
     "text": [
      "Conversion product cart -> purchase\n",
      "p-value:  0.9142604535464176\n",
      "Failed to reject the null hypothesis: there is no reason to consider the proportions different\n",
      "Conversion rate for group A: 0.333\n",
      "Conversion rate for group B: 0.338\n"
     ]
    }
   ],
   "source": [
    "# those who went through product page AND product cart and converted to purchase \n",
    "print('Conversion product cart -> purchase')\n",
    "z_test(np.array([510, 136]), np.array([170, 46]))\n",
    "conv_rate = np.array([170, 46])/np.array([510, 136])\n",
    "print('Conversion rate for group A:', round(conv_rate[0], 3))\n",
    "print('Conversion rate for group B:', round(conv_rate[1], 3))"
   ]
  },
  {
   "cell_type": "code",
   "execution_count": 57,
   "metadata": {},
   "outputs": [
    {
     "name": "stdout",
     "output_type": "stream",
     "text": [
      "Conversion product page -> purchase\n",
      "p-value:  0.13471208875000285\n",
      "Failed to reject the null hypothesis: there is no reason to consider the proportions different\n",
      "Conversion rate for group A: 0.348\n",
      "Conversion rate for group B: 0.305\n"
     ]
    }
   ],
   "source": [
    "# those who went through product page AND SKIPPED product cart and converted to purchase\n",
    "print('Conversion product page -> purchase')\n",
    "z_test(np.array([1175, 357]), np.array([409, 109]))\n",
    "conv_rate = np.array([409, 109])/np.array([1175, 357])\n",
    "print('Conversion rate for group A:', round(conv_rate[0], 3))\n",
    "print('Conversion rate for group B:', round(conv_rate[1], 3))"
   ]
  },
  {
   "cell_type": "markdown",
   "metadata": {},
   "source": [
    "The statistical test of the final funnel stages showed that there is no difference between proportions for both groups. The test should be stopped. \n",
    "Conversion product page -> purchase\n",
    "p-value:  0.13471208875000285\n",
    "Failed to reject the null hypothesis: there is no reason to consider the proportions different\n",
    "Conversion rate for group A: 0.348\n",
    "Conversion rate for group B: 0.305\n",
    "\n",
    "Conversion product cart -> purchase\n",
    "p-value:  0.9142604535464176\n",
    "Failed to reject the null hypothesis: there is no reason to consider the proportions different\n",
    "Conversion rate for group A: 0.333\n",
    "Conversion rate for group B: 0.338"
   ]
  },
  {
   "cell_type": "markdown",
   "metadata": {},
   "source": [
    "---\n",
    "\n",
    "<div class=\"alert alert-block alert-success\">\n",
    "    \n",
    "\n",
    "### Reviewer's comment\n",
    "\n",
    "Great! Hypothesis tests are successfull\n",
    "\n",
    "</div>\n",
    "\n",
    "---"
   ]
  },
  {
   "cell_type": "markdown",
   "metadata": {},
   "source": [
    "### Step 3. Conclusion"
   ]
  },
  {
   "cell_type": "markdown",
   "metadata": {},
   "source": [
    "Daily conversion rate graphs were analysed at Step3. Group B showed better results for some conversion stages, more specifically product_page->product_cart and product_page->purchase. The daily conversion rates for product_cart->purchase were not graphed since the data is not divided into two funnel groups. In general the graphs are a little distorted as the data was not divided into different funnel types. Due to that one cannot draw conclusions based only on graphs and they show only rough representation of true outcomes. \n",
    "\n",
    "The statistical significance of difference between groups' conversion rates was checked. Final funnel stages did not show any statistical difference. This means that the expected results were not achieved and the company should should stop the test since the expected number of participants was reached and the test did not show desirable results. "
   ]
  },
  {
   "cell_type": "markdown",
   "metadata": {},
   "source": [
    "## Conclusion"
   ]
  },
  {
   "cell_type": "markdown",
   "metadata": {},
   "source": [
    "The EDA was divided into following steps: events funnel, number of events per user, events distribution among days and search for peculiarities in the data. The funnel analyzed in this project showed the number of times one user went through one stage, i.e. one user could have logged in multiple times and it is still represented in the funnel. Counting unique or nonunique user ids at each funnel stage does not change one important observation - according to the funnel the final step 'purchases' has larger number of users than the previous step 'product cart'. This is probably due to the 'Buy Now' button or other options which can offer users to buy products skipping some steps and go directly to the purchase stage. \n",
    "\n",
    "The number of events were analyzed for AB groups. Group B has much less users but the average amount of events per user is comparable to that of group A, which means that users from group B visit the site more often. There are no users who are present in both groups. The number of events ditribution among days showed that it was decreasing till 2020-12-13 and then it spiked and continued to increase till 2020-12-21, which is due to the fact that no new users were accepted for the test. Right after Christmas Eve the number of events gradually decreased to 0.\n",
    "\n",
    "There were users who skipped some steps as well as those who went through all of them. The data investigation showed that some users skipped all steps and went directly to the purchase stage. Some part of users skipped product cart stage. The data actually has two funnel stage types: login->product_page->purchase and login->product_page->product_cart->purchase. These peculiarities in the dataset were taken into account before hypothesis testing\n",
    "\n",
    "Hypotheses testing part includes 4 hypotheses which correspond to each funnel stage. Daily conversion rate graphs were analyzed for two groups. Group B showed better results for some conversion stages, more specifically product_page->product_cart and product_page->purchase. In general the graphs are a little distorted as the data was not divided into different funnel types. \n",
    "\n",
    "The statistical significance of difference between groups' conversion rates was checked. According to the test group A showed better results for these stages of funnel: login -> product page and product page -> purchase. Other funnel stages did not show any statistical difference. This means that the expected results were not achieved and the company should should stop the test since the expected number of participants was reached and the test did not show desirable results."
   ]
  },
  {
   "cell_type": "markdown",
   "metadata": {},
   "source": [
    "---\n",
    "\n",
    "<div class=\"alert alert-block alert-success\">\n",
    "    \n",
    "\n",
    "### Reviewer's comment\n",
    "\n",
    "Great and business oriented conclusions. Thank you for recommendations for AB test (could you highlight it)\n",
    "\n",
    "</div>\n",
    "\n",
    "---"
   ]
  },
  {
   "cell_type": "markdown",
   "metadata": {},
   "source": [
    "---\n",
    "\n",
    "\n",
    "<div class=\"alert alert-block alert-warning\">\n",
    "    \n",
    "\n",
    "### General reviewer's comment\n",
    "\n",
    "You did such a good job!\n",
    "    \n",
    "You perform correct computations, build good looking plots, write correct conclusions.\n",
    "    \n",
    "I've found some issues in your project (see my comments above). \n",
    "    \n",
    "    \n",
    "They'll be easy to fix.\n",
    "    \n",
    "</div>\n",
    "\n",
    "---\n"
   ]
  },
  {
   "cell_type": "markdown",
   "metadata": {},
   "source": [
    "---\n",
    "\n",
    "\n",
    "<div class=\"alert alert-block alert-warning\">\n",
    "    \n",
    "\n",
    "### General reviewer's comment V2\n",
    "\n",
    "Thank you for correcting your project!\n",
    "    \n",
    "I'm really glad to see that the part regarding EU users and marketing events is much improved! However, this part needs a bit more work. Could you take a second glance at it? \n",
    "    \n",
    "See my V2 comments   \n",
    "    \n",
    "</div>\n",
    "\n",
    "---\n"
   ]
  },
  {
   "cell_type": "markdown",
   "metadata": {},
   "source": [
    "---\n",
    "\n",
    "\n",
    "<div class=\"alert alert-block alert-success\">\n",
    "    \n",
    "\n",
    "### General reviewer's comment V3\n",
    "\n",
    "You've done such a great job improving your project! \n",
    "    \n",
    "I'm glad to say that your project has been accepted.\n",
    "    \n",
    "Good luck! \n",
    "    \n",
    "</div>\n",
    "\n",
    "---\n"
   ]
  }
 ],
 "metadata": {
  "kernelspec": {
   "display_name": "Python 3",
   "language": "python",
   "name": "python3"
  },
  "language_info": {
   "codemirror_mode": {
    "name": "ipython",
    "version": 3
   },
   "file_extension": ".py",
   "mimetype": "text/x-python",
   "name": "python",
   "nbconvert_exporter": "python",
   "pygments_lexer": "ipython3",
   "version": "3.7.8"
  },
  "toc": {
   "base_numbering": 1,
   "nav_menu": {},
   "number_sections": true,
   "sideBar": true,
   "skip_h1_title": true,
   "title_cell": "Table of Contents",
   "title_sidebar": "Contents",
   "toc_cell": false,
   "toc_position": {},
   "toc_section_display": true,
   "toc_window_display": false
  }
 },
 "nbformat": 4,
 "nbformat_minor": 4
}
