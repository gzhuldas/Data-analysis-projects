{
 "cells": [
  {
   "cell_type": "code",
   "execution_count": 1,
   "id": "1e853621",
   "metadata": {},
   "outputs": [],
   "source": [
    "import numpy as np\n",
    "import pandas as pd"
   ]
  },
  {
   "cell_type": "markdown",
   "id": "c6224ec4",
   "metadata": {},
   "source": [
    "### Craps Game Sim\n",
    "\n",
    "Winning the pass bet in the dice game Craps follows the following rules:\n",
    "- Player rolls the two dice (the “come out” roll).\n",
    "- If the first roll (total of both dice) is a 7 or 11, the pass bet wins.\n",
    "- If the first roll is a 2, 3 or 12, the pass bet loses.\n",
    "- If any other total is rolled, the player rolls again repeated until one of the following…\n",
    "    - If the player rolls the same total as the first (come out) roll, the pass bet wins.\n",
    "    - If the player rolls a 7, the pass bet loses.\n",
    "\n",
    "\n"
   ]
  },
  {
   "cell_type": "code",
   "execution_count": 2,
   "id": "492014eb",
   "metadata": {},
   "outputs": [],
   "source": [
    "def diceRoll() :\n",
    "    dice_roll1 = np.random.randint(2,12)\n",
    "    roll_n = 1\n",
    "    if dice_roll1 == 7 or dice_roll1 == 11:\n",
    "        pass_bet = 'Win'\n",
    "    elif dice_roll1 in (2,3,12):\n",
    "        pass_bet = 'Lose'\n",
    "    else:\n",
    "        pass_bet = False\n",
    "        while not pass_bet:\n",
    "            dice_roll2 = np.random.randint(2,12)\n",
    "            roll_n += 1\n",
    "            if dice_roll2 == 7:\n",
    "                pass_bet = 'Lose'\n",
    "            elif dice_roll1==dice_roll2:\n",
    "                pass_bet = 'Win'\n",
    "    return pass_bet, roll_n"
   ]
  },
  {
   "cell_type": "code",
   "execution_count": 3,
   "id": "66fa7188",
   "metadata": {},
   "outputs": [],
   "source": [
    "def trialsCrapsModel(num_trials) :\n",
    "    trials_num_rolls = []\n",
    "    trials_results = []\n",
    "    \n",
    "    for i in range(num_trials) :\n",
    "        game_result, num_rolls = diceRoll()\n",
    "        trials_num_rolls.append(num_rolls)\n",
    "        trials_results.append(game_result)\n",
    "\n",
    "    return trials_num_rolls, trials_results"
   ]
  },
  {
   "cell_type": "code",
   "execution_count": 4,
   "id": "8e5e684a",
   "metadata": {},
   "outputs": [],
   "source": [
    "sim_num_rolls, sim_results = trialsCrapsModel(5000)"
   ]
  },
  {
   "cell_type": "code",
   "execution_count": 5,
   "id": "48bcd67e",
   "metadata": {},
   "outputs": [
    {
     "data": {
      "text/plain": [
       "3.9418"
      ]
     },
     "execution_count": 5,
     "metadata": {},
     "output_type": "execute_result"
    }
   ],
   "source": [
    "avg_dice_rolls = np.average(sim_num_rolls)\n",
    "avg_dice_rolls"
   ]
  },
  {
   "cell_type": "code",
   "execution_count": 6,
   "id": "903296fd",
   "metadata": {},
   "outputs": [],
   "source": [
    "wins=0\n",
    "for i in sim_results:\n",
    "    if i=='Win':\n",
    "        wins+=1\n",
    "prob_winning = (wins/len(sim_results))*100"
   ]
  },
  {
   "cell_type": "code",
   "execution_count": 7,
   "id": "c73579b4",
   "metadata": {},
   "outputs": [
    {
     "data": {
      "text/plain": [
       "50.739999999999995"
      ]
     },
     "execution_count": 7,
     "metadata": {},
     "output_type": "execute_result"
    }
   ],
   "source": [
    "prob_winning"
   ]
  },
  {
   "cell_type": "markdown",
   "id": "e56c3f2f",
   "metadata": {},
   "source": [
    "Simulate your Craps models enough times to get a stable estimate of the probability of the pass \n",
    "bet winning. What are the average number of dice rolls in a Craps game? What is the estimated \n",
    "probability of winning?\n",
    "\n",
    "Number of Rolls _3.9418_  \n",
    "Prob of Winning __50.7399___"
   ]
  },
  {
   "cell_type": "code",
   "execution_count": null,
   "id": "be02fa76",
   "metadata": {},
   "outputs": [],
   "source": []
  }
 ],
 "metadata": {
  "kernelspec": {
   "display_name": "Python 3 (ipykernel)",
   "language": "python",
   "name": "python3"
  },
  "language_info": {
   "codemirror_mode": {
    "name": "ipython",
    "version": 3
   },
   "file_extension": ".py",
   "mimetype": "text/x-python",
   "name": "python",
   "nbconvert_exporter": "python",
   "pygments_lexer": "ipython3",
   "version": "3.9.12"
  }
 },
 "nbformat": 4,
 "nbformat_minor": 5
}
