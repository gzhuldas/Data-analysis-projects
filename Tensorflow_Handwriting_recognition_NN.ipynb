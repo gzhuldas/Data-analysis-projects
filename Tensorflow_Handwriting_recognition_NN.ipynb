{
  "nbformat": 4,
  "nbformat_minor": 0,
  "metadata": {
    "colab": {
      "name": "Tensorflow Handwriting recognition NN.ipynb",
      "provenance": [],
      "mount_file_id": "1iC85d3QjsEGM-jn69G11PEb-Yj-SaaU1",
      "authorship_tag": "ABX9TyN5/yYSqvC94EiDAhHdIodt",
      "include_colab_link": true
    },
    "kernelspec": {
      "name": "python3",
      "display_name": "Python 3"
    },
    "language_info": {
      "name": "python"
    }
  },
  "cells": [
    {
      "cell_type": "markdown",
      "metadata": {
        "id": "view-in-github",
        "colab_type": "text"
      },
      "source": [
        "<a href=\"https://colab.research.google.com/github/oogaini/Data-analysis-projects/blob/main/Tensorflow_Handwriting_recognition_NN.ipynb\" target=\"_parent\"><img src=\"https://colab.research.google.com/assets/colab-badge.svg\" alt=\"Open In Colab\"/></a>"
      ]
    },
    {
      "cell_type": "markdown",
      "metadata": {
        "id": "CTEODR4Hj_vF"
      },
      "source": [
        "### Imports\n",
        "\n",
        "\n"
      ]
    },
    {
      "cell_type": "code",
      "metadata": {
        "id": "6zhd4M9ijucN"
      },
      "source": [
        "from numpy.random import seed\n",
        "seed(888)\n",
        "\n",
        "import tensorflow as tf\n",
        "tf.random.set_seed(404)"
      ],
      "execution_count": 1,
      "outputs": []
    },
    {
      "cell_type": "code",
      "metadata": {
        "id": "-uolPYOPkTOY"
      },
      "source": [
        "import os\n",
        "import numpy as np\n",
        "import tensorflow as tf\n",
        "\n",
        "from time import strftime"
      ],
      "execution_count": 38,
      "outputs": []
    },
    {
      "cell_type": "markdown",
      "metadata": {
        "id": "C9ql86-ZlJLV"
      },
      "source": [
        "## Constants"
      ]
    },
    {
      "cell_type": "code",
      "metadata": {
        "id": "YxIds32pkco0"
      },
      "source": [
        "X_TRAIN_PATH = 'drive/MyDrive/MNIST/digit_xtrain.csv'\n",
        "X_TEST_PATH = 'drive/MyDrive/MNIST/digit_xtest.csv'\n",
        "Y_TRAIN_PATH = 'drive/MyDrive/MNIST/digit_ytrain.csv'\n",
        "Y_TEST_PATH = 'drive/MyDrive/MNIST/digit_ytest.csv'\n",
        "\n",
        "LOGGING_PATH = 'tensorboard_mnist_digit_logs/'\n",
        "\n",
        "NR_CLASSES = 10\n",
        "VALIDATION_SIZE = 10000\n",
        "IMG_WIDTH = 28\n",
        "IMG_HEIGHT = 28\n",
        "CHANNELS = 1\n",
        "TOTAL_INPUTS = IMG_WIDTH * IMG_HEIGHT * CHANNELS"
      ],
      "execution_count": 37,
      "outputs": []
    },
    {
      "cell_type": "markdown",
      "metadata": {
        "id": "-RLWGn8umcZg"
      },
      "source": [
        "## Get the data"
      ]
    },
    {
      "cell_type": "code",
      "metadata": {
        "colab": {
          "base_uri": "https://localhost:8080/"
        },
        "id": "utNz3fC0mM85",
        "outputId": "9c7f7ddc-79de-4dc9-870d-6cf0d0ea51d3"
      },
      "source": [
        "%%time\n",
        "\n",
        "y_train_all = np.loadtxt(Y_TRAIN_PATH, delimiter=',', dtype=int)"
      ],
      "execution_count": 4,
      "outputs": [
        {
          "output_type": "stream",
          "name": "stdout",
          "text": [
            "CPU times: user 224 ms, sys: 3.76 ms, total: 228 ms\n",
            "Wall time: 473 ms\n"
          ]
        }
      ]
    },
    {
      "cell_type": "code",
      "metadata": {
        "id": "hDwOxaPCmvhb"
      },
      "source": [
        "y_test = np.loadtxt(Y_TEST_PATH, delimiter=',', dtype=int)"
      ],
      "execution_count": 5,
      "outputs": []
    },
    {
      "cell_type": "code",
      "metadata": {
        "colab": {
          "base_uri": "https://localhost:8080/"
        },
        "id": "Oc7U_vLjnrEK",
        "outputId": "681e5b15-2068-4330-a5a1-c7f1d3ea493f"
      },
      "source": [
        "%%time\n",
        "\n",
        "x_train_all = np.loadtxt(X_TRAIN_PATH, delimiter=',', dtype=int)\n",
        "x_test = np.loadtxt(X_TEST_PATH, delimiter=',', dtype=int)"
      ],
      "execution_count": 6,
      "outputs": [
        {
          "output_type": "stream",
          "name": "stdout",
          "text": [
            "CPU times: user 52.4 s, sys: 2.89 s, total: 55.3 s\n",
            "Wall time: 56 s\n"
          ]
        }
      ]
    },
    {
      "cell_type": "markdown",
      "metadata": {
        "id": "W5px7tARnjLj"
      },
      "source": [
        "## Explore the data"
      ]
    },
    {
      "cell_type": "code",
      "metadata": {
        "colab": {
          "base_uri": "https://localhost:8080/"
        },
        "id": "ZbsK8ycOnB9B",
        "outputId": "c1cdaa7a-e8a4-4e7e-89ef-34e811efd317"
      },
      "source": [
        "x_train_all.shape"
      ],
      "execution_count": 7,
      "outputs": [
        {
          "output_type": "execute_result",
          "data": {
            "text/plain": [
              "(60000, 784)"
            ]
          },
          "metadata": {},
          "execution_count": 7
        }
      ]
    },
    {
      "cell_type": "code",
      "metadata": {
        "colab": {
          "base_uri": "https://localhost:8080/"
        },
        "id": "7Fky6vgnpGJm",
        "outputId": "12496791-553e-4260-da42-b987f814ffe2"
      },
      "source": [
        "x_test.shape"
      ],
      "execution_count": 8,
      "outputs": [
        {
          "output_type": "execute_result",
          "data": {
            "text/plain": [
              "(10000, 784)"
            ]
          },
          "metadata": {},
          "execution_count": 8
        }
      ]
    },
    {
      "cell_type": "markdown",
      "metadata": {
        "id": "jcbsAmLapp1h"
      },
      "source": [
        "## Data preprocessing"
      ]
    },
    {
      "cell_type": "code",
      "metadata": {
        "id": "rDKPqt-_pIpH"
      },
      "source": [
        "# Re-scale\n",
        "x_train_all, x_test = x_train_all/255.0, x_test/255.0"
      ],
      "execution_count": 9,
      "outputs": []
    },
    {
      "cell_type": "markdown",
      "metadata": {
        "id": "SLxi6IHhrDEm"
      },
      "source": [
        "### Convert target values into one-hot encoding"
      ]
    },
    {
      "cell_type": "code",
      "metadata": {
        "colab": {
          "base_uri": "https://localhost:8080/"
        },
        "id": "IjdvZ061qFY0",
        "outputId": "7e2d5a78-86dd-4c9b-bc18-b134d0af3724"
      },
      "source": [
        "values = y_train_all[:5]\n",
        "np.eye(10)[values]"
      ],
      "execution_count": 10,
      "outputs": [
        {
          "output_type": "execute_result",
          "data": {
            "text/plain": [
              "array([[0., 0., 0., 0., 0., 1., 0., 0., 0., 0.],\n",
              "       [1., 0., 0., 0., 0., 0., 0., 0., 0., 0.],\n",
              "       [0., 0., 0., 0., 1., 0., 0., 0., 0., 0.],\n",
              "       [0., 1., 0., 0., 0., 0., 0., 0., 0., 0.],\n",
              "       [0., 0., 0., 0., 0., 0., 0., 0., 0., 1.]])"
            ]
          },
          "metadata": {},
          "execution_count": 10
        }
      ]
    },
    {
      "cell_type": "code",
      "metadata": {
        "colab": {
          "base_uri": "https://localhost:8080/"
        },
        "id": "YDkSQ48IqXdu",
        "outputId": "079e4dee-c0cd-45d9-e50c-c3d2428cf639"
      },
      "source": [
        "y_train_all = np.eye(NR_CLASSES)[y_train_all]\n",
        "y_train_all.shape"
      ],
      "execution_count": 11,
      "outputs": [
        {
          "output_type": "execute_result",
          "data": {
            "text/plain": [
              "(60000, 10)"
            ]
          },
          "metadata": {},
          "execution_count": 11
        }
      ]
    },
    {
      "cell_type": "code",
      "metadata": {
        "colab": {
          "base_uri": "https://localhost:8080/"
        },
        "id": "vGv9rzITrZ6W",
        "outputId": "6632a551-96cb-458f-c8bc-3b501ab7e3ac"
      },
      "source": [
        "y_test = np.eye(NR_CLASSES)[y_test]\n",
        "y_test.shape"
      ],
      "execution_count": 12,
      "outputs": [
        {
          "output_type": "execute_result",
          "data": {
            "text/plain": [
              "(10000, 10)"
            ]
          },
          "metadata": {},
          "execution_count": 12
        }
      ]
    },
    {
      "cell_type": "markdown",
      "metadata": {
        "id": "i2ZHZCnxsGWd"
      },
      "source": [
        "## Create validation dataset from training set"
      ]
    },
    {
      "cell_type": "code",
      "metadata": {
        "id": "sMzH7jbMsE64"
      },
      "source": [
        "x_val = x_train_all[:VALIDATION_SIZE]\n",
        "y_val = y_train_all[:VALIDATION_SIZE]"
      ],
      "execution_count": 13,
      "outputs": []
    },
    {
      "cell_type": "code",
      "metadata": {
        "id": "fiGsCi3TsfNH"
      },
      "source": [
        "x_train = x_train_all[VALIDATION_SIZE:]\n",
        "y_train = y_train_all[VALIDATION_SIZE:]"
      ],
      "execution_count": 14,
      "outputs": []
    },
    {
      "cell_type": "code",
      "metadata": {
        "colab": {
          "base_uri": "https://localhost:8080/"
        },
        "id": "6GOQcy5Osnds",
        "outputId": "0b8dfa06-2e84-4908-de65-0130eec4a2b1"
      },
      "source": [
        "x_val.shape"
      ],
      "execution_count": 15,
      "outputs": [
        {
          "output_type": "execute_result",
          "data": {
            "text/plain": [
              "(10000, 784)"
            ]
          },
          "metadata": {},
          "execution_count": 15
        }
      ]
    },
    {
      "cell_type": "code",
      "metadata": {
        "colab": {
          "base_uri": "https://localhost:8080/"
        },
        "id": "hmZ_K2TfsqsH",
        "outputId": "c3e266da-d400-43d5-9dd6-ca1f8111875e"
      },
      "source": [
        "x_train.shape"
      ],
      "execution_count": 16,
      "outputs": [
        {
          "output_type": "execute_result",
          "data": {
            "text/plain": [
              "(50000, 784)"
            ]
          },
          "metadata": {},
          "execution_count": 16
        }
      ]
    },
    {
      "cell_type": "markdown",
      "metadata": {
        "id": "cOor3FxHuchb"
      },
      "source": [
        "## Set up Tensorflow graph"
      ]
    },
    {
      "cell_type": "code",
      "metadata": {
        "colab": {
          "base_uri": "https://localhost:8080/"
        },
        "id": "-Yh-dLC8suJl",
        "outputId": "77b8c411-16ca-4360-dccb-6653f8083348"
      },
      "source": [
        "import tensorflow.compat.v1 as tf\n",
        "tf.disable_v2_behavior()\n",
        "X = tf.placeholder(tf.float32, shape=[None, TOTAL_INPUTS])\n",
        "y = tf.placeholder(tf.float32, shape=[None, NR_CLASSES])"
      ],
      "execution_count": 17,
      "outputs": [
        {
          "output_type": "stream",
          "name": "stdout",
          "text": [
            "WARNING:tensorflow:From /usr/local/lib/python3.7/dist-packages/tensorflow/python/compat/v2_compat.py:111: disable_resource_variables (from tensorflow.python.ops.variable_scope) is deprecated and will be removed in a future version.\n",
            "Instructions for updating:\n",
            "non-resource variables are not supported in the long term\n"
          ]
        }
      ]
    },
    {
      "cell_type": "markdown",
      "metadata": {
        "id": "HtSHu95Wv1Zv"
      },
      "source": [
        "## Neural Network Architecture\n",
        "\n",
        "#### Hyperparameters\n",
        "how long to train our model, epochs, layers, nr of nodes per layer, learning rate"
      ]
    },
    {
      "cell_type": "code",
      "metadata": {
        "id": "v2SNsFdtvzxu"
      },
      "source": [
        "nr_epochs = 5\n",
        "learning_rate = 0.0001\n",
        "\n",
        "n_hidden1 = 512\n",
        "n_hidden2 = 64"
      ],
      "execution_count": 18,
      "outputs": []
    },
    {
      "cell_type": "code",
      "metadata": {
        "id": "-hGM5uqKwZnN"
      },
      "source": [
        "initial_w1 = tf.truncated_normal(shape=[TOTAL_INPUTS, n_hidden1], stddev=0.1, seed=42)\n",
        "w1 = tf.Variable(initial_value=initial_w1)"
      ],
      "execution_count": 19,
      "outputs": []
    },
    {
      "cell_type": "code",
      "metadata": {
        "id": "6ySGqwLmxKbl"
      },
      "source": [
        "initial_b1 = tf.constant(value=0.0, shape=[n_hidden1])\n",
        "b1 = tf.Variable(initial_value=initial_b1)"
      ],
      "execution_count": 20,
      "outputs": []
    },
    {
      "cell_type": "code",
      "metadata": {
        "id": "pvu9C-WsyBoS"
      },
      "source": [
        "layer1_in = tf.matmul(X, w1) + b1"
      ],
      "execution_count": 21,
      "outputs": []
    },
    {
      "cell_type": "code",
      "metadata": {
        "id": "NQ77J2H0yq8M"
      },
      "source": [
        "layer1_out = tf.nn.relu(layer1_in)"
      ],
      "execution_count": 22,
      "outputs": []
    },
    {
      "cell_type": "code",
      "metadata": {
        "id": "RhkI8bqny1zj"
      },
      "source": [
        "initial_w2 = tf.truncated_normal(shape=[n_hidden1, n_hidden2], stddev=0.1, seed=42)\n",
        "w2 = tf.Variable(initial_value=initial_w2)\n",
        "\n",
        "initial_b2 = tf.constant(value=0.0, shape=[n_hidden2])\n",
        "b2 = tf.Variable(initial_value=initial_b2)\n",
        "\n",
        "layer2_in = tf.matmul(layer1_out, w2) + b2\n",
        "layer2_out = tf.nn.relu(layer2_in)"
      ],
      "execution_count": 23,
      "outputs": []
    },
    {
      "cell_type": "code",
      "metadata": {
        "id": "X9h5kIjazitJ"
      },
      "source": [
        "initial_w3 = tf.truncated_normal(shape=[n_hidden2, NR_CLASSES], stddev=0.1, seed=42)\n",
        "w3 = tf.Variable(initial_value=initial_w3)\n",
        "\n",
        "initial_b3 = tf.constant(value=0.0, shape=[NR_CLASSES ])\n",
        "b3 = tf.Variable(initial_value=initial_b3)\n",
        "\n",
        "layer3_in = tf.matmul(layer2_out, w3) + b3\n",
        "output = tf.nn.softmax(layer3_in)"
      ],
      "execution_count": 24,
      "outputs": []
    },
    {
      "cell_type": "markdown",
      "metadata": {
        "id": "3HHSzmgJu1gI"
      },
      "source": [
        "## Tensorboard Setup"
      ]
    },
    {
      "cell_type": "code",
      "metadata": {
        "colab": {
          "base_uri": "https://localhost:8080/"
        },
        "id": "DAf0wtatu5b4",
        "outputId": "e90dd350-f452-4e5c-e8c6-719255dbeb19"
      },
      "source": [
        "# Folder for Tensorboard\n",
        "folder_name = f'Model 1 at {strftime(\"%H:%M\")}'\n",
        "directory = os.path.join(LOGGING_PATH, folder_name)\n",
        "\n",
        "try:\n",
        "  os.makedirs(directory)\n",
        "except OSError as exception:\n",
        "  print(exception.strerror)\n",
        "else:\n",
        "  print('Successfully created directionaries!')"
      ],
      "execution_count": 39,
      "outputs": [
        {
          "output_type": "stream",
          "name": "stdout",
          "text": [
            "Successfully created directionaries!\n"
          ]
        }
      ]
    },
    {
      "cell_type": "markdown",
      "metadata": {
        "id": "WBU7KRUR0ooT"
      },
      "source": [
        "## Loss, Optimization, Metrics"
      ]
    },
    {
      "cell_type": "code",
      "metadata": {
        "id": "Pcz_rdtu0Uhi"
      },
      "source": [
        "loss = tf.nn.softmax_cross_entropy_with_logits_v2(labels=y, logits=output)"
      ],
      "execution_count": 25,
      "outputs": []
    },
    {
      "cell_type": "code",
      "metadata": {
        "id": "IlF_rs8X1eaS"
      },
      "source": [
        "optimizer = tf.train.AdamOptimizer(learning_rate=learning_rate)\n",
        "train_step = optimizer.minimize(loss)"
      ],
      "execution_count": 26,
      "outputs": []
    },
    {
      "cell_type": "markdown",
      "metadata": {
        "id": "xtTsiJeg2Rgg"
      },
      "source": [
        "#### Accuracy metric"
      ]
    },
    {
      "cell_type": "code",
      "metadata": {
        "id": "TGU6RSX72spu"
      },
      "source": [
        "correct_pred = tf.equal(tf.argmax(output, axis=1), tf.argmax(y, axis=1))\n",
        "accuracy = tf.math.reduce_mean(tf.cast(correct_pred, tf.float32))"
      ],
      "execution_count": 27,
      "outputs": []
    },
    {
      "cell_type": "markdown",
      "metadata": {
        "id": "aFs2eWrB2X95"
      },
      "source": [
        "## Run session"
      ]
    },
    {
      "cell_type": "code",
      "metadata": {
        "id": "clmQxfB72dQF"
      },
      "source": [
        "sess = tf.Session()"
      ],
      "execution_count": 28,
      "outputs": []
    },
    {
      "cell_type": "code",
      "metadata": {
        "id": "-QZ25sFW48Me"
      },
      "source": [
        "# Initialize all the variables\n",
        "init = tf.global_variables_initializer()\n",
        "sess.run(init)"
      ],
      "execution_count": 29,
      "outputs": []
    },
    {
      "cell_type": "code",
      "metadata": {
        "colab": {
          "base_uri": "https://localhost:8080/"
        },
        "id": "E7V8PDhT5MsM",
        "outputId": "4f728600-7d18-4374-a060-87c7186659b0"
      },
      "source": [
        "b3.eval(sess)"
      ],
      "execution_count": 30,
      "outputs": [
        {
          "output_type": "execute_result",
          "data": {
            "text/plain": [
              "array([0., 0., 0., 0., 0., 0., 0., 0., 0., 0.], dtype=float32)"
            ]
          },
          "metadata": {},
          "execution_count": 30
        }
      ]
    },
    {
      "cell_type": "markdown",
      "metadata": {
        "id": "Akji-bFf2VkK"
      },
      "source": [
        "## Batching the data"
      ]
    },
    {
      "cell_type": "code",
      "metadata": {
        "id": "1KYGLhSU2eTz"
      },
      "source": [
        "size_of_batch = 1000"
      ],
      "execution_count": 31,
      "outputs": []
    },
    {
      "cell_type": "code",
      "metadata": {
        "id": "TcH4QLus2Pz9"
      },
      "source": [
        "num_examples = y_train.shape[0]\n",
        "nr_iterations = int(num_examples/size_of_batch)\n",
        "\n",
        "index_in_epoch = 0"
      ],
      "execution_count": 32,
      "outputs": []
    },
    {
      "cell_type": "code",
      "metadata": {
        "id": "5ZLPaTx1rad1"
      },
      "source": [
        "def next_batch(batch_size, data, labels):\n",
        "\n",
        "  global num_examples\n",
        "  global index_in_epoch\n",
        "\n",
        "  start = index_in_epoch\n",
        "  index_in_epoch += batch_size\n",
        "  \n",
        "  if index_in_epoch > num_examples:\n",
        "    start = 0 \n",
        "    index_in_epoch = batch_size\n",
        "\n",
        "  end = index_in_epoch\n",
        "\n",
        "  return data[start:end], labels[start:end]"
      ],
      "execution_count": 34,
      "outputs": []
    },
    {
      "cell_type": "code",
      "metadata": {
        "colab": {
          "base_uri": "https://localhost:8080/"
        },
        "id": "Pir191YjsD7m",
        "outputId": "fe2c902f-7613-469a-e4d5-69f79b364ba2"
      },
      "source": [
        "for epoch in range(nr_epochs):\n",
        "  for i in range(nr_iterations):\n",
        "    batch_x, batch_y = next_batch(batch_size=size_of_batch, data=x_train, labels=y_train)\n",
        "\n",
        "    feed_dictionary = {X:batch_x, y:batch_y}\n",
        "\n",
        "    sess.run(train_step, feed_dict=feed_dictionary)\n",
        "\n",
        "    batch_accuracy = sess.run(fetches=[accuracy], feed_dict=feed_dictionary)\n",
        "  print(f'Epoch {epoch} \\t| Training Accuracy = {batch_accuracy}')\n",
        "print('Done training!')  "
      ],
      "execution_count": 36,
      "outputs": [
        {
          "output_type": "stream",
          "name": "stdout",
          "text": [
            "Epoch 0 \t| Training Accuracy = [0.376]\n",
            "Epoch 1 \t| Training Accuracy = [0.713]\n",
            "Epoch 2 \t| Training Accuracy = [0.8]\n",
            "Epoch 3 \t| Training Accuracy = [0.822]\n",
            "Epoch 4 \t| Training Accuracy = [0.839]\n",
            "Done training!\n"
          ]
        }
      ]
    },
    {
      "cell_type": "code",
      "metadata": {
        "id": "qG5IiEjZuaHg"
      },
      "source": [
        ""
      ],
      "execution_count": null,
      "outputs": []
    }
  ]
}